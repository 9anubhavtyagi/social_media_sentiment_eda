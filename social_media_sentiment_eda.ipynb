{
 "cells": [
  {
   "cell_type": "markdown",
   "metadata": {},
   "source": [
    "# Social Media Sentiment Analysis"
   ]
  },
  {
   "cell_type": "markdown",
   "metadata": {},
   "source": [
    "## Problem Statement"
   ]
  },
  {
   "cell_type": "markdown",
   "metadata": {},
   "source": [
    "Conduct a comprehensive analysis of social media data to uncover insights into user sentiment distribution, engagement patterns, and content preferences across different platforms and geographical locations."
   ]
  },
  {
   "cell_type": "markdown",
   "metadata": {},
   "source": [
    "## Imports"
   ]
  },
  {
   "cell_type": "code",
   "execution_count": 1,
   "metadata": {},
   "outputs": [],
   "source": [
    "import numpy as np\n",
    "import pandas as pd\n",
    "import matplotlib.pyplot as plt\n",
    "import seaborn as sns\n",
    "\n",
    "import math\n",
    "import re\n",
    "\n",
    "from scipy import stats"
   ]
  },
  {
   "cell_type": "markdown",
   "metadata": {},
   "source": [
    "## Dataset"
   ]
  },
  {
   "cell_type": "code",
   "execution_count": 2,
   "metadata": {},
   "outputs": [
    {
     "data": {
      "text/html": [
       "<div>\n",
       "<style scoped>\n",
       "    .dataframe tbody tr th:only-of-type {\n",
       "        vertical-align: middle;\n",
       "    }\n",
       "\n",
       "    .dataframe tbody tr th {\n",
       "        vertical-align: top;\n",
       "    }\n",
       "\n",
       "    .dataframe thead th {\n",
       "        text-align: right;\n",
       "    }\n",
       "</style>\n",
       "<table border=\"1\" class=\"dataframe\">\n",
       "  <thead>\n",
       "    <tr style=\"text-align: right;\">\n",
       "      <th></th>\n",
       "      <th>Text</th>\n",
       "      <th>Sentiment</th>\n",
       "      <th>Timestamp</th>\n",
       "      <th>User</th>\n",
       "      <th>Platform</th>\n",
       "      <th>Hashtags</th>\n",
       "      <th>Retweets</th>\n",
       "      <th>Likes</th>\n",
       "      <th>Country</th>\n",
       "      <th>Year</th>\n",
       "      <th>Month</th>\n",
       "      <th>Day</th>\n",
       "      <th>Hour</th>\n",
       "    </tr>\n",
       "  </thead>\n",
       "  <tbody>\n",
       "    <tr>\n",
       "      <th>0</th>\n",
       "      <td>Enjoying a beautiful day at the park!        ...</td>\n",
       "      <td>Positive</td>\n",
       "      <td>2023-01-15 12:30:00</td>\n",
       "      <td>User123</td>\n",
       "      <td>Twitter</td>\n",
       "      <td>#Nature #Park</td>\n",
       "      <td>15.0</td>\n",
       "      <td>30.0</td>\n",
       "      <td>USA</td>\n",
       "      <td>2023</td>\n",
       "      <td>1</td>\n",
       "      <td>15</td>\n",
       "      <td>12</td>\n",
       "    </tr>\n",
       "    <tr>\n",
       "      <th>1</th>\n",
       "      <td>Traffic was terrible this morning.           ...</td>\n",
       "      <td>Negative</td>\n",
       "      <td>2023-01-15 08:45:00</td>\n",
       "      <td>CommuterX</td>\n",
       "      <td>Twitter</td>\n",
       "      <td>#Traffic #Morning</td>\n",
       "      <td>5.0</td>\n",
       "      <td>10.0</td>\n",
       "      <td>Canada</td>\n",
       "      <td>2023</td>\n",
       "      <td>1</td>\n",
       "      <td>15</td>\n",
       "      <td>8</td>\n",
       "    </tr>\n",
       "    <tr>\n",
       "      <th>2</th>\n",
       "      <td>Just finished an amazing workout! 💪          ...</td>\n",
       "      <td>Positive</td>\n",
       "      <td>2023-01-15 15:45:00</td>\n",
       "      <td>FitnessFan</td>\n",
       "      <td>Instagram</td>\n",
       "      <td>#Fitness #Workout</td>\n",
       "      <td>20.0</td>\n",
       "      <td>40.0</td>\n",
       "      <td>USA</td>\n",
       "      <td>2023</td>\n",
       "      <td>1</td>\n",
       "      <td>15</td>\n",
       "      <td>15</td>\n",
       "    </tr>\n",
       "    <tr>\n",
       "      <th>3</th>\n",
       "      <td>Excited about the upcoming weekend getaway!  ...</td>\n",
       "      <td>Positive</td>\n",
       "      <td>2023-01-15 18:20:00</td>\n",
       "      <td>AdventureX</td>\n",
       "      <td>Facebook</td>\n",
       "      <td>#Travel #Adventure</td>\n",
       "      <td>8.0</td>\n",
       "      <td>15.0</td>\n",
       "      <td>UK</td>\n",
       "      <td>2023</td>\n",
       "      <td>1</td>\n",
       "      <td>15</td>\n",
       "      <td>18</td>\n",
       "    </tr>\n",
       "    <tr>\n",
       "      <th>4</th>\n",
       "      <td>Trying out a new recipe for dinner tonight.  ...</td>\n",
       "      <td>Neutral</td>\n",
       "      <td>2023-01-15 19:55:00</td>\n",
       "      <td>ChefCook</td>\n",
       "      <td>Instagram</td>\n",
       "      <td>#Cooking #Food</td>\n",
       "      <td>12.0</td>\n",
       "      <td>25.0</td>\n",
       "      <td>Australia</td>\n",
       "      <td>2023</td>\n",
       "      <td>1</td>\n",
       "      <td>15</td>\n",
       "      <td>19</td>\n",
       "    </tr>\n",
       "  </tbody>\n",
       "</table>\n",
       "</div>"
      ],
      "text/plain": [
       "                                                Text    Sentiment  \\\n",
       "0   Enjoying a beautiful day at the park!        ...   Positive     \n",
       "1   Traffic was terrible this morning.           ...   Negative     \n",
       "2   Just finished an amazing workout! 💪          ...   Positive     \n",
       "3   Excited about the upcoming weekend getaway!  ...   Positive     \n",
       "4   Trying out a new recipe for dinner tonight.  ...   Neutral      \n",
       "\n",
       "             Timestamp            User     Platform  \\\n",
       "0  2023-01-15 12:30:00   User123          Twitter     \n",
       "1  2023-01-15 08:45:00   CommuterX        Twitter     \n",
       "2  2023-01-15 15:45:00   FitnessFan      Instagram    \n",
       "3  2023-01-15 18:20:00   AdventureX       Facebook    \n",
       "4  2023-01-15 19:55:00   ChefCook        Instagram    \n",
       "\n",
       "                                     Hashtags  Retweets  Likes       Country  \\\n",
       "0   #Nature #Park                                  15.0   30.0     USA         \n",
       "1   #Traffic #Morning                               5.0   10.0     Canada      \n",
       "2   #Fitness #Workout                              20.0   40.0   USA           \n",
       "3   #Travel #Adventure                              8.0   15.0     UK          \n",
       "4   #Cooking #Food                                 12.0   25.0    Australia    \n",
       "\n",
       "   Year  Month  Day  Hour  \n",
       "0  2023      1   15    12  \n",
       "1  2023      1   15     8  \n",
       "2  2023      1   15    15  \n",
       "3  2023      1   15    18  \n",
       "4  2023      1   15    19  "
      ]
     },
     "execution_count": 2,
     "metadata": {},
     "output_type": "execute_result"
    }
   ],
   "source": [
    "data = pd.read_csv(\"dataset.csv\")\n",
    "data.drop(columns=[\"Unnamed: 0\", \"Unnamed: 0.1\"], inplace=True)\n",
    "\n",
    "data.head()"
   ]
  },
  {
   "cell_type": "markdown",
   "metadata": {},
   "source": [
    "### Data Dictionary of this dataset\n",
    "\n",
    "\n",
    "* Text: The text content of the social media post.\n",
    "* Sentiment: Categorized sentiment of the post (e.g., Positive, Negative, Neutral).\n",
    "* Timestamp: The date and time when the post was made.\n",
    "* User: Identifier or username of the post's author.\n",
    "* Platform: The social media platform where the post was made (e.g., Twitter, Facebook).\n",
    "* Hashtags: Hashtags used in the post, indicating topics or themes.\n",
    "* Retweets: The number of times the post has been retweeted or shared.\n",
    "* Likes: The number of likes the post has received.\n",
    "* Country: The country from which the post was made.\n",
    "* Year: The year when the post was made.\n",
    "* Month: The month when the post was made.\n",
    "* Day: The day of the month when the post was made.\n",
    "* Hour: The hour of the day when the post was made, using a 24-hour clock."
   ]
  },
  {
   "cell_type": "markdown",
   "metadata": {},
   "source": [
    "## Preprocessing Data"
   ]
  },
  {
   "cell_type": "markdown",
   "metadata": {},
   "source": [
    "### 1. Checking and Handling Missing Values"
   ]
  },
  {
   "cell_type": "code",
   "execution_count": 3,
   "metadata": {},
   "outputs": [
    {
     "data": {
      "text/plain": [
       "(732, 13)"
      ]
     },
     "execution_count": 3,
     "metadata": {},
     "output_type": "execute_result"
    }
   ],
   "source": [
    "data.shape"
   ]
  },
  {
   "cell_type": "code",
   "execution_count": 4,
   "metadata": {},
   "outputs": [
    {
     "name": "stdout",
     "output_type": "stream",
     "text": [
      "<class 'pandas.core.frame.DataFrame'>\n",
      "RangeIndex: 732 entries, 0 to 731\n",
      "Data columns (total 13 columns):\n",
      " #   Column     Non-Null Count  Dtype  \n",
      "---  ------     --------------  -----  \n",
      " 0   Text       732 non-null    object \n",
      " 1   Sentiment  732 non-null    object \n",
      " 2   Timestamp  732 non-null    object \n",
      " 3   User       732 non-null    object \n",
      " 4   Platform   732 non-null    object \n",
      " 5   Hashtags   732 non-null    object \n",
      " 6   Retweets   732 non-null    float64\n",
      " 7   Likes      732 non-null    float64\n",
      " 8   Country    732 non-null    object \n",
      " 9   Year       732 non-null    int64  \n",
      " 10  Month      732 non-null    int64  \n",
      " 11  Day        732 non-null    int64  \n",
      " 12  Hour       732 non-null    int64  \n",
      "dtypes: float64(2), int64(4), object(7)\n",
      "memory usage: 74.5+ KB\n"
     ]
    }
   ],
   "source": [
    "data.info()"
   ]
  },
  {
   "cell_type": "markdown",
   "metadata": {},
   "source": [
    "- data.info() suggest `no missing values`.\n",
    "- Let's check for data cleaning"
   ]
  },
  {
   "cell_type": "markdown",
   "metadata": {},
   "source": [
    "### 2. Removing Leading and Trailing Spaces"
   ]
  },
  {
   "cell_type": "code",
   "execution_count": 5,
   "metadata": {},
   "outputs": [
    {
     "data": {
      "text/plain": [
       "array([' Twitter  ', ' Instagram ', ' Facebook ', ' Twitter '],\n",
       "      dtype=object)"
      ]
     },
     "execution_count": 5,
     "metadata": {},
     "output_type": "execute_result"
    }
   ],
   "source": [
    "data[\"Platform\"].unique()"
   ]
  },
  {
   "cell_type": "code",
   "execution_count": 6,
   "metadata": {},
   "outputs": [
    {
     "data": {
      "text/plain": [
       "array([' USA      ', ' Canada   ', ' USA        ', ' UK       ',\n",
       "       ' Australia ', ' India    ', ' USA    ', 'USA', ' Canada    ',\n",
       "       ' USA       '], dtype=object)"
      ]
     },
     "execution_count": 6,
     "metadata": {},
     "output_type": "execute_result"
    }
   ],
   "source": [
    "data[\"Country\"].unique()[: 10]"
   ]
  },
  {
   "cell_type": "code",
   "execution_count": 7,
   "metadata": {},
   "outputs": [
    {
     "data": {
      "text/plain": [
       "array([' #Nature #Park                            ',\n",
       "       ' #Traffic #Morning                        ',\n",
       "       ' #Fitness #Workout                        ',\n",
       "       ' #Travel #Adventure                       ',\n",
       "       ' #Cooking #Food                           '], dtype=object)"
      ]
     },
     "execution_count": 7,
     "metadata": {},
     "output_type": "execute_result"
    }
   ],
   "source": [
    "data[\"Hashtags\"].unique()[:5]"
   ]
  },
  {
   "cell_type": "markdown",
   "metadata": {},
   "source": [
    "*Removing Leading and Trailing whitespaces from textual data.*"
   ]
  },
  {
   "cell_type": "code",
   "execution_count": 8,
   "metadata": {},
   "outputs": [],
   "source": [
    "for column in data.columns:\n",
    "    if data[column].dtype == object:\n",
    "        data[column] = data[column].str.strip()"
   ]
  },
  {
   "cell_type": "markdown",
   "metadata": {},
   "source": [
    "### 3. Dealing with duplicates"
   ]
  },
  {
   "cell_type": "code",
   "execution_count": 9,
   "metadata": {},
   "outputs": [
    {
     "data": {
      "text/plain": [
       "22"
      ]
     },
     "execution_count": 9,
     "metadata": {},
     "output_type": "execute_result"
    }
   ],
   "source": [
    "data.duplicated().sum()"
   ]
  },
  {
   "cell_type": "code",
   "execution_count": 10,
   "metadata": {},
   "outputs": [],
   "source": [
    "data.drop_duplicates(keep='first', inplace=True)"
   ]
  },
  {
   "cell_type": "code",
   "execution_count": 11,
   "metadata": {},
   "outputs": [
    {
     "data": {
      "text/plain": [
       "(710, 13)"
      ]
     },
     "execution_count": 11,
     "metadata": {},
     "output_type": "execute_result"
    }
   ],
   "source": [
    "data.shape"
   ]
  },
  {
   "cell_type": "markdown",
   "metadata": {},
   "source": [
    "### 4. Optimising memory for numerical column dtypes"
   ]
  },
  {
   "cell_type": "code",
   "execution_count": 12,
   "metadata": {},
   "outputs": [
    {
     "name": "stdout",
     "output_type": "stream",
     "text": [
      "meory usage before datatype optimisation: 79520\n"
     ]
    }
   ],
   "source": [
    "print(f\"meory usage before datatype optimisation: {data.memory_usage().sum()}\")"
   ]
  },
  {
   "cell_type": "code",
   "execution_count": 13,
   "metadata": {},
   "outputs": [
    {
     "name": "stdout",
     "output_type": "stream",
     "text": [
      "Retweets ==> Min: 5.0, Max: 40.0\n",
      "Likes ==> Min: 10.0, Max: 80.0\n",
      "Year ==> Min: 2010, Max: 2023\n",
      "Month ==> Min: 1, Max: 12\n",
      "Day ==> Min: 1, Max: 31\n",
      "Hour ==> Min: 0, Max: 23\n"
     ]
    }
   ],
   "source": [
    "for column in data.columns:\n",
    "    if np.issubdtype(data[column].dtype, np.number):\n",
    "        print(f\"{column} ==> Min: {min(data[column])}, Max: {max(data[column])}\")\n"
   ]
  },
  {
   "cell_type": "markdown",
   "metadata": {},
   "source": [
    "- Converting dtypes of `Retweets, Likes, Month, Day and Hour` columns to **`np.uint8`** dtype.\n",
    "- Converting dtypes of `Year` to **`np.uint16`** dtype."
   ]
  },
  {
   "cell_type": "code",
   "execution_count": 14,
   "metadata": {},
   "outputs": [],
   "source": [
    "data[\"Retweets\"] = data[\"Retweets\"].astype(np.uint8)\n",
    "data[\"Likes\"] = data[\"Likes\"].astype(np.uint8)\n",
    "data[\"Month\"] = data[\"Month\"].astype(np.uint8)\n",
    "data[\"Day\"] = data[\"Day\"].astype(np.uint8)\n",
    "data[\"Hour\"] = data[\"Hour\"].astype(np.uint8)\n",
    "\n",
    "data[\"Year\"] = data[\"Year\"].astype(np.uint16)"
   ]
  },
  {
   "cell_type": "code",
   "execution_count": 15,
   "metadata": {},
   "outputs": [
    {
     "name": "stdout",
     "output_type": "stream",
     "text": [
      "Retweets ==> Min: 5, Max: 40\n",
      "Likes ==> Min: 10, Max: 80\n",
      "Year ==> Min: 2010, Max: 2023\n",
      "Month ==> Min: 1, Max: 12\n",
      "Day ==> Min: 1, Max: 31\n",
      "Hour ==> Min: 0, Max: 23\n"
     ]
    }
   ],
   "source": [
    "for column in data.columns:\n",
    "    if np.issubdtype(data[column].dtype, np.number):\n",
    "        print(f\"{column} ==> Min: {min(data[column])}, Max: {max(data[column])}\")\n"
   ]
  },
  {
   "cell_type": "code",
   "execution_count": 16,
   "metadata": {},
   "outputs": [
    {
     "name": "stdout",
     "output_type": "stream",
     "text": [
      "meory usage after datatype optimisation: 50410\n"
     ]
    }
   ],
   "source": [
    "print(f\"meory usage after datatype optimisation: {data.memory_usage().sum()}\")"
   ]
  },
  {
   "cell_type": "markdown",
   "metadata": {},
   "source": [
    "- Earlier memory usage is `80.2 kb`\n",
    "- After dtype optimisation memory usage is `46.6 kb`"
   ]
  },
  {
   "cell_type": "markdown",
   "metadata": {},
   "source": [
    "### 5. Converting `Timestamp` to pandas datetime format."
   ]
  },
  {
   "cell_type": "code",
   "execution_count": 17,
   "metadata": {},
   "outputs": [],
   "source": [
    "data['Timestamp'] = pd.to_datetime(data['Timestamp'])"
   ]
  },
  {
   "cell_type": "code",
   "execution_count": 18,
   "metadata": {},
   "outputs": [
    {
     "data": {
      "text/plain": [
       "0        Sunday\n",
       "1        Sunday\n",
       "2        Sunday\n",
       "3        Sunday\n",
       "4        Sunday\n",
       "         ...   \n",
       "727      Friday\n",
       "728      Friday\n",
       "729      Friday\n",
       "730    Saturday\n",
       "731      Sunday\n",
       "Name: Timestamp, Length: 710, dtype: object"
      ]
     },
     "execution_count": 18,
     "metadata": {},
     "output_type": "execute_result"
    }
   ],
   "source": [
    "data['Timestamp'].dt.day_name()"
   ]
  },
  {
   "cell_type": "markdown",
   "metadata": {},
   "source": [
    "### 6. Handling Unnested data-\n",
    "\n",
    "- Hashtags and Sentiments contains nested data.\n",
    "- To unnest them I will separate the hashtags and sentiments into different dataframes.\n",
    "- Now to hold the relationship between separated hashtags, sentiments and the post, I will also create an unique id column."
   ]
  },
  {
   "cell_type": "markdown",
   "metadata": {},
   "source": [
    "#### Creating id column"
   ]
  },
  {
   "cell_type": "code",
   "execution_count": 19,
   "metadata": {},
   "outputs": [
    {
     "data": {
      "text/plain": [
       "710"
      ]
     },
     "execution_count": 19,
     "metadata": {},
     "output_type": "execute_result"
    }
   ],
   "source": [
    "total_records = data.shape[0]\n",
    "total_records"
   ]
  },
  {
   "cell_type": "code",
   "execution_count": 20,
   "metadata": {},
   "outputs": [
    {
     "data": {
      "text/html": [
       "<div>\n",
       "<style scoped>\n",
       "    .dataframe tbody tr th:only-of-type {\n",
       "        vertical-align: middle;\n",
       "    }\n",
       "\n",
       "    .dataframe tbody tr th {\n",
       "        vertical-align: top;\n",
       "    }\n",
       "\n",
       "    .dataframe thead th {\n",
       "        text-align: right;\n",
       "    }\n",
       "</style>\n",
       "<table border=\"1\" class=\"dataframe\">\n",
       "  <thead>\n",
       "    <tr style=\"text-align: right;\">\n",
       "      <th></th>\n",
       "      <th>Text</th>\n",
       "      <th>Sentiment</th>\n",
       "      <th>Timestamp</th>\n",
       "      <th>User</th>\n",
       "      <th>Platform</th>\n",
       "      <th>Hashtags</th>\n",
       "      <th>Retweets</th>\n",
       "      <th>Likes</th>\n",
       "      <th>Country</th>\n",
       "      <th>Year</th>\n",
       "      <th>Month</th>\n",
       "      <th>Day</th>\n",
       "      <th>Hour</th>\n",
       "      <th>id</th>\n",
       "    </tr>\n",
       "  </thead>\n",
       "  <tbody>\n",
       "    <tr>\n",
       "      <th>0</th>\n",
       "      <td>Enjoying a beautiful day at the park!</td>\n",
       "      <td>Positive</td>\n",
       "      <td>2023-01-15 12:30:00</td>\n",
       "      <td>User123</td>\n",
       "      <td>Twitter</td>\n",
       "      <td>#Nature #Park</td>\n",
       "      <td>15</td>\n",
       "      <td>30</td>\n",
       "      <td>USA</td>\n",
       "      <td>2023</td>\n",
       "      <td>1</td>\n",
       "      <td>15</td>\n",
       "      <td>12</td>\n",
       "      <td>1</td>\n",
       "    </tr>\n",
       "    <tr>\n",
       "      <th>1</th>\n",
       "      <td>Traffic was terrible this morning.</td>\n",
       "      <td>Negative</td>\n",
       "      <td>2023-01-15 08:45:00</td>\n",
       "      <td>CommuterX</td>\n",
       "      <td>Twitter</td>\n",
       "      <td>#Traffic #Morning</td>\n",
       "      <td>5</td>\n",
       "      <td>10</td>\n",
       "      <td>Canada</td>\n",
       "      <td>2023</td>\n",
       "      <td>1</td>\n",
       "      <td>15</td>\n",
       "      <td>8</td>\n",
       "      <td>2</td>\n",
       "    </tr>\n",
       "    <tr>\n",
       "      <th>2</th>\n",
       "      <td>Just finished an amazing workout! 💪</td>\n",
       "      <td>Positive</td>\n",
       "      <td>2023-01-15 15:45:00</td>\n",
       "      <td>FitnessFan</td>\n",
       "      <td>Instagram</td>\n",
       "      <td>#Fitness #Workout</td>\n",
       "      <td>20</td>\n",
       "      <td>40</td>\n",
       "      <td>USA</td>\n",
       "      <td>2023</td>\n",
       "      <td>1</td>\n",
       "      <td>15</td>\n",
       "      <td>15</td>\n",
       "      <td>3</td>\n",
       "    </tr>\n",
       "    <tr>\n",
       "      <th>3</th>\n",
       "      <td>Excited about the upcoming weekend getaway!</td>\n",
       "      <td>Positive</td>\n",
       "      <td>2023-01-15 18:20:00</td>\n",
       "      <td>AdventureX</td>\n",
       "      <td>Facebook</td>\n",
       "      <td>#Travel #Adventure</td>\n",
       "      <td>8</td>\n",
       "      <td>15</td>\n",
       "      <td>UK</td>\n",
       "      <td>2023</td>\n",
       "      <td>1</td>\n",
       "      <td>15</td>\n",
       "      <td>18</td>\n",
       "      <td>4</td>\n",
       "    </tr>\n",
       "    <tr>\n",
       "      <th>4</th>\n",
       "      <td>Trying out a new recipe for dinner tonight.</td>\n",
       "      <td>Neutral</td>\n",
       "      <td>2023-01-15 19:55:00</td>\n",
       "      <td>ChefCook</td>\n",
       "      <td>Instagram</td>\n",
       "      <td>#Cooking #Food</td>\n",
       "      <td>12</td>\n",
       "      <td>25</td>\n",
       "      <td>Australia</td>\n",
       "      <td>2023</td>\n",
       "      <td>1</td>\n",
       "      <td>15</td>\n",
       "      <td>19</td>\n",
       "      <td>5</td>\n",
       "    </tr>\n",
       "  </tbody>\n",
       "</table>\n",
       "</div>"
      ],
      "text/plain": [
       "                                          Text Sentiment           Timestamp  \\\n",
       "0        Enjoying a beautiful day at the park!  Positive 2023-01-15 12:30:00   \n",
       "1           Traffic was terrible this morning.  Negative 2023-01-15 08:45:00   \n",
       "2          Just finished an amazing workout! 💪  Positive 2023-01-15 15:45:00   \n",
       "3  Excited about the upcoming weekend getaway!  Positive 2023-01-15 18:20:00   \n",
       "4  Trying out a new recipe for dinner tonight.   Neutral 2023-01-15 19:55:00   \n",
       "\n",
       "         User   Platform            Hashtags  Retweets  Likes    Country  \\\n",
       "0     User123    Twitter       #Nature #Park        15     30        USA   \n",
       "1   CommuterX    Twitter   #Traffic #Morning         5     10     Canada   \n",
       "2  FitnessFan  Instagram   #Fitness #Workout        20     40        USA   \n",
       "3  AdventureX   Facebook  #Travel #Adventure         8     15         UK   \n",
       "4    ChefCook  Instagram      #Cooking #Food        12     25  Australia   \n",
       "\n",
       "   Year  Month  Day  Hour  id  \n",
       "0  2023      1   15    12   1  \n",
       "1  2023      1   15     8   2  \n",
       "2  2023      1   15    15   3  \n",
       "3  2023      1   15    18   4  \n",
       "4  2023      1   15    19   5  "
      ]
     },
     "execution_count": 20,
     "metadata": {},
     "output_type": "execute_result"
    }
   ],
   "source": [
    "data[\"id\"] = np.arange(1, total_records +1, dtype=np.uint16)\n",
    "data.head()"
   ]
  },
  {
   "cell_type": "markdown",
   "metadata": {},
   "source": [
    "#### a) Handling Nested Hashtags"
   ]
  },
  {
   "cell_type": "code",
   "execution_count": 21,
   "metadata": {},
   "outputs": [
    {
     "data": {
      "text/html": [
       "<div>\n",
       "<style scoped>\n",
       "    .dataframe tbody tr th:only-of-type {\n",
       "        vertical-align: middle;\n",
       "    }\n",
       "\n",
       "    .dataframe tbody tr th {\n",
       "        vertical-align: top;\n",
       "    }\n",
       "\n",
       "    .dataframe thead th {\n",
       "        text-align: right;\n",
       "    }\n",
       "</style>\n",
       "<table border=\"1\" class=\"dataframe\">\n",
       "  <thead>\n",
       "    <tr style=\"text-align: right;\">\n",
       "      <th></th>\n",
       "      <th>id</th>\n",
       "      <th>Hashtags</th>\n",
       "    </tr>\n",
       "  </thead>\n",
       "  <tbody>\n",
       "    <tr>\n",
       "      <th>0</th>\n",
       "      <td>1</td>\n",
       "      <td>#Nature</td>\n",
       "    </tr>\n",
       "    <tr>\n",
       "      <th>1</th>\n",
       "      <td>1</td>\n",
       "      <td>#Park</td>\n",
       "    </tr>\n",
       "    <tr>\n",
       "      <th>2</th>\n",
       "      <td>2</td>\n",
       "      <td>#Traffic</td>\n",
       "    </tr>\n",
       "    <tr>\n",
       "      <th>3</th>\n",
       "      <td>2</td>\n",
       "      <td>#Morning</td>\n",
       "    </tr>\n",
       "    <tr>\n",
       "      <th>4</th>\n",
       "      <td>3</td>\n",
       "      <td>#Fitness</td>\n",
       "    </tr>\n",
       "  </tbody>\n",
       "</table>\n",
       "</div>"
      ],
      "text/plain": [
       "   id  Hashtags\n",
       "0   1   #Nature\n",
       "1   1     #Park\n",
       "2   2  #Traffic\n",
       "3   2  #Morning\n",
       "4   3  #Fitness"
      ]
     },
     "execution_count": 21,
     "metadata": {},
     "output_type": "execute_result"
    }
   ],
   "source": [
    "data_hashtags = data[\"Hashtags\"].apply(lambda s: str(s).split()).tolist()\n",
    "data_hashtags = pd.DataFrame(data_hashtags, index = data[\"id\"])\n",
    "\n",
    "# pivot the dataframe\n",
    "data_hashtags = data_hashtags.stack()\n",
    "\n",
    "# convert it back to dataframe after reseting indices\n",
    "data_hashtags = pd.DataFrame(data_hashtags.reset_index())\n",
    "\n",
    "# dropping 'level_1' and renaming other column\n",
    "data_hashtags.rename(columns={0: \"Hashtags\"}, inplace=True)\n",
    "data_hashtags.drop(columns=[\"level_1\"], inplace=True)\n",
    "\n",
    "data_hashtags.head()"
   ]
  },
  {
   "cell_type": "markdown",
   "metadata": {},
   "source": [
    "#### b) Handling Nested Sentiments"
   ]
  },
  {
   "cell_type": "code",
   "execution_count": 22,
   "metadata": {},
   "outputs": [],
   "source": [
    "def sentiment_splitter(s):\n",
    "    if \" \" in s:\n",
    "        if \"'s \" in s:\n",
    "            s = s.replace(\"'s \", \" \")\n",
    "        return s.split(\" \")\n",
    "    else:\n",
    "        return re.findall(r'[A-Z][a-z]*', s)"
   ]
  },
  {
   "cell_type": "code",
   "execution_count": 23,
   "metadata": {},
   "outputs": [
    {
     "data": {
      "text/html": [
       "<div>\n",
       "<style scoped>\n",
       "    .dataframe tbody tr th:only-of-type {\n",
       "        vertical-align: middle;\n",
       "    }\n",
       "\n",
       "    .dataframe tbody tr th {\n",
       "        vertical-align: top;\n",
       "    }\n",
       "\n",
       "    .dataframe thead th {\n",
       "        text-align: right;\n",
       "    }\n",
       "</style>\n",
       "<table border=\"1\" class=\"dataframe\">\n",
       "  <thead>\n",
       "    <tr style=\"text-align: right;\">\n",
       "      <th></th>\n",
       "      <th>id</th>\n",
       "      <th>Sentiment</th>\n",
       "    </tr>\n",
       "  </thead>\n",
       "  <tbody>\n",
       "    <tr>\n",
       "      <th>0</th>\n",
       "      <td>1</td>\n",
       "      <td>Positive</td>\n",
       "    </tr>\n",
       "    <tr>\n",
       "      <th>1</th>\n",
       "      <td>2</td>\n",
       "      <td>Negative</td>\n",
       "    </tr>\n",
       "    <tr>\n",
       "      <th>2</th>\n",
       "      <td>3</td>\n",
       "      <td>Positive</td>\n",
       "    </tr>\n",
       "    <tr>\n",
       "      <th>3</th>\n",
       "      <td>4</td>\n",
       "      <td>Positive</td>\n",
       "    </tr>\n",
       "    <tr>\n",
       "      <th>4</th>\n",
       "      <td>5</td>\n",
       "      <td>Neutral</td>\n",
       "    </tr>\n",
       "  </tbody>\n",
       "</table>\n",
       "</div>"
      ],
      "text/plain": [
       "   id Sentiment\n",
       "0   1  Positive\n",
       "1   2  Negative\n",
       "2   3  Positive\n",
       "3   4  Positive\n",
       "4   5   Neutral"
      ]
     },
     "execution_count": 23,
     "metadata": {},
     "output_type": "execute_result"
    }
   ],
   "source": [
    "data_sentiments = data[\"Sentiment\"].apply(sentiment_splitter).tolist()\n",
    "\n",
    "data_sentiments = pd.DataFrame(data_sentiments, index = data[\"id\"])\n",
    "\n",
    "# pivot the dataframe\n",
    "data_sentiments = data_sentiments.stack()\n",
    "\n",
    "# convert it back to dataframe after reseting indices\n",
    "data_sentiments = pd.DataFrame(data_sentiments.reset_index())\n",
    "\n",
    "# dropping 'level_1' and renaming other column\n",
    "data_sentiments.rename(columns={0: \"Sentiment\"}, inplace=True)\n",
    "data_sentiments.drop(columns=[\"level_1\"], inplace=True)\n",
    "\n",
    "data_sentiments.head()"
   ]
  },
  {
   "cell_type": "markdown",
   "metadata": {},
   "source": [
    "#### Dropping Hashtags, Timestamp, Sentiment columns from original dataframe"
   ]
  },
  {
   "cell_type": "code",
   "execution_count": 24,
   "metadata": {},
   "outputs": [
    {
     "data": {
      "text/html": [
       "<div>\n",
       "<style scoped>\n",
       "    .dataframe tbody tr th:only-of-type {\n",
       "        vertical-align: middle;\n",
       "    }\n",
       "\n",
       "    .dataframe tbody tr th {\n",
       "        vertical-align: top;\n",
       "    }\n",
       "\n",
       "    .dataframe thead th {\n",
       "        text-align: right;\n",
       "    }\n",
       "</style>\n",
       "<table border=\"1\" class=\"dataframe\">\n",
       "  <thead>\n",
       "    <tr style=\"text-align: right;\">\n",
       "      <th></th>\n",
       "      <th>Text</th>\n",
       "      <th>Timestamp</th>\n",
       "      <th>User</th>\n",
       "      <th>Platform</th>\n",
       "      <th>Retweets</th>\n",
       "      <th>Likes</th>\n",
       "      <th>Country</th>\n",
       "      <th>Year</th>\n",
       "      <th>Month</th>\n",
       "      <th>Day</th>\n",
       "      <th>Hour</th>\n",
       "      <th>id</th>\n",
       "    </tr>\n",
       "  </thead>\n",
       "  <tbody>\n",
       "    <tr>\n",
       "      <th>0</th>\n",
       "      <td>Enjoying a beautiful day at the park!</td>\n",
       "      <td>2023-01-15 12:30:00</td>\n",
       "      <td>User123</td>\n",
       "      <td>Twitter</td>\n",
       "      <td>15</td>\n",
       "      <td>30</td>\n",
       "      <td>USA</td>\n",
       "      <td>2023</td>\n",
       "      <td>1</td>\n",
       "      <td>15</td>\n",
       "      <td>12</td>\n",
       "      <td>1</td>\n",
       "    </tr>\n",
       "    <tr>\n",
       "      <th>1</th>\n",
       "      <td>Traffic was terrible this morning.</td>\n",
       "      <td>2023-01-15 08:45:00</td>\n",
       "      <td>CommuterX</td>\n",
       "      <td>Twitter</td>\n",
       "      <td>5</td>\n",
       "      <td>10</td>\n",
       "      <td>Canada</td>\n",
       "      <td>2023</td>\n",
       "      <td>1</td>\n",
       "      <td>15</td>\n",
       "      <td>8</td>\n",
       "      <td>2</td>\n",
       "    </tr>\n",
       "    <tr>\n",
       "      <th>2</th>\n",
       "      <td>Just finished an amazing workout! 💪</td>\n",
       "      <td>2023-01-15 15:45:00</td>\n",
       "      <td>FitnessFan</td>\n",
       "      <td>Instagram</td>\n",
       "      <td>20</td>\n",
       "      <td>40</td>\n",
       "      <td>USA</td>\n",
       "      <td>2023</td>\n",
       "      <td>1</td>\n",
       "      <td>15</td>\n",
       "      <td>15</td>\n",
       "      <td>3</td>\n",
       "    </tr>\n",
       "    <tr>\n",
       "      <th>3</th>\n",
       "      <td>Excited about the upcoming weekend getaway!</td>\n",
       "      <td>2023-01-15 18:20:00</td>\n",
       "      <td>AdventureX</td>\n",
       "      <td>Facebook</td>\n",
       "      <td>8</td>\n",
       "      <td>15</td>\n",
       "      <td>UK</td>\n",
       "      <td>2023</td>\n",
       "      <td>1</td>\n",
       "      <td>15</td>\n",
       "      <td>18</td>\n",
       "      <td>4</td>\n",
       "    </tr>\n",
       "    <tr>\n",
       "      <th>4</th>\n",
       "      <td>Trying out a new recipe for dinner tonight.</td>\n",
       "      <td>2023-01-15 19:55:00</td>\n",
       "      <td>ChefCook</td>\n",
       "      <td>Instagram</td>\n",
       "      <td>12</td>\n",
       "      <td>25</td>\n",
       "      <td>Australia</td>\n",
       "      <td>2023</td>\n",
       "      <td>1</td>\n",
       "      <td>15</td>\n",
       "      <td>19</td>\n",
       "      <td>5</td>\n",
       "    </tr>\n",
       "  </tbody>\n",
       "</table>\n",
       "</div>"
      ],
      "text/plain": [
       "                                          Text           Timestamp  \\\n",
       "0        Enjoying a beautiful day at the park! 2023-01-15 12:30:00   \n",
       "1           Traffic was terrible this morning. 2023-01-15 08:45:00   \n",
       "2          Just finished an amazing workout! 💪 2023-01-15 15:45:00   \n",
       "3  Excited about the upcoming weekend getaway! 2023-01-15 18:20:00   \n",
       "4  Trying out a new recipe for dinner tonight. 2023-01-15 19:55:00   \n",
       "\n",
       "         User   Platform  Retweets  Likes    Country  Year  Month  Day  Hour  \\\n",
       "0     User123    Twitter        15     30        USA  2023      1   15    12   \n",
       "1   CommuterX    Twitter         5     10     Canada  2023      1   15     8   \n",
       "2  FitnessFan  Instagram        20     40        USA  2023      1   15    15   \n",
       "3  AdventureX   Facebook         8     15         UK  2023      1   15    18   \n",
       "4    ChefCook  Instagram        12     25  Australia  2023      1   15    19   \n",
       "\n",
       "   id  \n",
       "0   1  \n",
       "1   2  \n",
       "2   3  \n",
       "3   4  \n",
       "4   5  "
      ]
     },
     "execution_count": 24,
     "metadata": {},
     "output_type": "execute_result"
    }
   ],
   "source": [
    "data.drop(columns=[\"Sentiment\", \"Hashtags\"], inplace=True)\n",
    "data.head()"
   ]
  },
  {
   "cell_type": "markdown",
   "metadata": {},
   "source": [
    "## Performing EDA"
   ]
  },
  {
   "cell_type": "markdown",
   "metadata": {},
   "source": [
    "### Feature Engineering: Creating new features."
   ]
  },
  {
   "cell_type": "markdown",
   "metadata": {},
   "source": [
    "1. **`TextLength`**: Column for length of Post"
   ]
  },
  {
   "cell_type": "code",
   "execution_count": 25,
   "metadata": {},
   "outputs": [],
   "source": [
    "data[\"TextLength\"] = data[\"Text\"].apply(lambda s: len(s)).astype(np.uint8)"
   ]
  },
  {
   "cell_type": "markdown",
   "metadata": {},
   "source": [
    "2. **`HourSegment`**: Group hours in **Morning, Noon, Evening, Night and Late-Night** segments."
   ]
  },
  {
   "cell_type": "code",
   "execution_count": 26,
   "metadata": {},
   "outputs": [],
   "source": [
    "def getHourSegment(n):\n",
    "    if 1 <= n and n <= 5:\n",
    "        return \"Late-Night\"\n",
    "    elif n <= 11:\n",
    "        return \"Morning\"\n",
    "    elif n <= 15:\n",
    "        return \"Noon\"\n",
    "    elif n <= 20:\n",
    "        return \"Evening\"\n",
    "    else:\n",
    "        return \"Night\""
   ]
  },
  {
   "cell_type": "code",
   "execution_count": 27,
   "metadata": {},
   "outputs": [],
   "source": [
    "data[\"HourSegment\"] = data[\"Hour\"].apply(getHourSegment)"
   ]
  },
  {
   "cell_type": "markdown",
   "metadata": {},
   "source": [
    "3. **`DaySegment`**: Group days in **Month-Start, Month-Mid and Month-End** segments."
   ]
  },
  {
   "cell_type": "code",
   "execution_count": 28,
   "metadata": {},
   "outputs": [],
   "source": [
    "def getDaySegment(n):\n",
    "    if 1 <= n and n <= 10:\n",
    "        return \"Month-Start\"\n",
    "    elif n <= 20:\n",
    "        return \"Month-Mid\"\n",
    "    else:\n",
    "        return \"Month-End\""
   ]
  },
  {
   "cell_type": "code",
   "execution_count": 29,
   "metadata": {},
   "outputs": [],
   "source": [
    "data[\"DaySegment\"] = data[\"Day\"].apply(getDaySegment)\n"
   ]
  },
  {
   "cell_type": "markdown",
   "metadata": {},
   "source": [
    "4. **`Quarter`**: Group Month in Quarters"
   ]
  },
  {
   "cell_type": "code",
   "execution_count": 30,
   "metadata": {},
   "outputs": [],
   "source": [
    "def getQuarter(n):\n",
    "    if 1 <= n and n <= 3:\n",
    "        return \"Quarter-1\"\n",
    "    elif n <= 6:\n",
    "        return \"Quarter-2\"\n",
    "    elif n <= 9:\n",
    "        return \"Quarter-3\"\n",
    "    else:\n",
    "        return \"Quarter-4\""
   ]
  },
  {
   "cell_type": "code",
   "execution_count": 31,
   "metadata": {},
   "outputs": [],
   "source": [
    "data[\"Quarter\"] = data[\"Month\"].apply(getQuarter)\n"
   ]
  },
  {
   "cell_type": "markdown",
   "metadata": {},
   "source": [
    "5. **`DayName`**: Sunday, Monday, ..., Saturday"
   ]
  },
  {
   "cell_type": "code",
   "execution_count": 32,
   "metadata": {},
   "outputs": [],
   "source": [
    "data['DayName'] = data['Timestamp'].dt.day_name()"
   ]
  },
  {
   "cell_type": "code",
   "execution_count": 33,
   "metadata": {},
   "outputs": [
    {
     "data": {
      "text/html": [
       "<div>\n",
       "<style scoped>\n",
       "    .dataframe tbody tr th:only-of-type {\n",
       "        vertical-align: middle;\n",
       "    }\n",
       "\n",
       "    .dataframe tbody tr th {\n",
       "        vertical-align: top;\n",
       "    }\n",
       "\n",
       "    .dataframe thead th {\n",
       "        text-align: right;\n",
       "    }\n",
       "</style>\n",
       "<table border=\"1\" class=\"dataframe\">\n",
       "  <thead>\n",
       "    <tr style=\"text-align: right;\">\n",
       "      <th></th>\n",
       "      <th>Text</th>\n",
       "      <th>Timestamp</th>\n",
       "      <th>User</th>\n",
       "      <th>Platform</th>\n",
       "      <th>Retweets</th>\n",
       "      <th>Likes</th>\n",
       "      <th>Country</th>\n",
       "      <th>Year</th>\n",
       "      <th>Month</th>\n",
       "      <th>Day</th>\n",
       "      <th>Hour</th>\n",
       "      <th>id</th>\n",
       "      <th>TextLength</th>\n",
       "      <th>HourSegment</th>\n",
       "      <th>DaySegment</th>\n",
       "      <th>Quarter</th>\n",
       "      <th>DayName</th>\n",
       "    </tr>\n",
       "  </thead>\n",
       "  <tbody>\n",
       "    <tr>\n",
       "      <th>0</th>\n",
       "      <td>Enjoying a beautiful day at the park!</td>\n",
       "      <td>2023-01-15 12:30:00</td>\n",
       "      <td>User123</td>\n",
       "      <td>Twitter</td>\n",
       "      <td>15</td>\n",
       "      <td>30</td>\n",
       "      <td>USA</td>\n",
       "      <td>2023</td>\n",
       "      <td>1</td>\n",
       "      <td>15</td>\n",
       "      <td>12</td>\n",
       "      <td>1</td>\n",
       "      <td>37</td>\n",
       "      <td>Noon</td>\n",
       "      <td>Month-Mid</td>\n",
       "      <td>Quarter-1</td>\n",
       "      <td>Sunday</td>\n",
       "    </tr>\n",
       "    <tr>\n",
       "      <th>1</th>\n",
       "      <td>Traffic was terrible this morning.</td>\n",
       "      <td>2023-01-15 08:45:00</td>\n",
       "      <td>CommuterX</td>\n",
       "      <td>Twitter</td>\n",
       "      <td>5</td>\n",
       "      <td>10</td>\n",
       "      <td>Canada</td>\n",
       "      <td>2023</td>\n",
       "      <td>1</td>\n",
       "      <td>15</td>\n",
       "      <td>8</td>\n",
       "      <td>2</td>\n",
       "      <td>34</td>\n",
       "      <td>Morning</td>\n",
       "      <td>Month-Mid</td>\n",
       "      <td>Quarter-1</td>\n",
       "      <td>Sunday</td>\n",
       "    </tr>\n",
       "    <tr>\n",
       "      <th>2</th>\n",
       "      <td>Just finished an amazing workout! 💪</td>\n",
       "      <td>2023-01-15 15:45:00</td>\n",
       "      <td>FitnessFan</td>\n",
       "      <td>Instagram</td>\n",
       "      <td>20</td>\n",
       "      <td>40</td>\n",
       "      <td>USA</td>\n",
       "      <td>2023</td>\n",
       "      <td>1</td>\n",
       "      <td>15</td>\n",
       "      <td>15</td>\n",
       "      <td>3</td>\n",
       "      <td>35</td>\n",
       "      <td>Noon</td>\n",
       "      <td>Month-Mid</td>\n",
       "      <td>Quarter-1</td>\n",
       "      <td>Sunday</td>\n",
       "    </tr>\n",
       "    <tr>\n",
       "      <th>3</th>\n",
       "      <td>Excited about the upcoming weekend getaway!</td>\n",
       "      <td>2023-01-15 18:20:00</td>\n",
       "      <td>AdventureX</td>\n",
       "      <td>Facebook</td>\n",
       "      <td>8</td>\n",
       "      <td>15</td>\n",
       "      <td>UK</td>\n",
       "      <td>2023</td>\n",
       "      <td>1</td>\n",
       "      <td>15</td>\n",
       "      <td>18</td>\n",
       "      <td>4</td>\n",
       "      <td>43</td>\n",
       "      <td>Evening</td>\n",
       "      <td>Month-Mid</td>\n",
       "      <td>Quarter-1</td>\n",
       "      <td>Sunday</td>\n",
       "    </tr>\n",
       "    <tr>\n",
       "      <th>4</th>\n",
       "      <td>Trying out a new recipe for dinner tonight.</td>\n",
       "      <td>2023-01-15 19:55:00</td>\n",
       "      <td>ChefCook</td>\n",
       "      <td>Instagram</td>\n",
       "      <td>12</td>\n",
       "      <td>25</td>\n",
       "      <td>Australia</td>\n",
       "      <td>2023</td>\n",
       "      <td>1</td>\n",
       "      <td>15</td>\n",
       "      <td>19</td>\n",
       "      <td>5</td>\n",
       "      <td>43</td>\n",
       "      <td>Evening</td>\n",
       "      <td>Month-Mid</td>\n",
       "      <td>Quarter-1</td>\n",
       "      <td>Sunday</td>\n",
       "    </tr>\n",
       "  </tbody>\n",
       "</table>\n",
       "</div>"
      ],
      "text/plain": [
       "                                          Text           Timestamp  \\\n",
       "0        Enjoying a beautiful day at the park! 2023-01-15 12:30:00   \n",
       "1           Traffic was terrible this morning. 2023-01-15 08:45:00   \n",
       "2          Just finished an amazing workout! 💪 2023-01-15 15:45:00   \n",
       "3  Excited about the upcoming weekend getaway! 2023-01-15 18:20:00   \n",
       "4  Trying out a new recipe for dinner tonight. 2023-01-15 19:55:00   \n",
       "\n",
       "         User   Platform  Retweets  Likes    Country  Year  Month  Day  Hour  \\\n",
       "0     User123    Twitter        15     30        USA  2023      1   15    12   \n",
       "1   CommuterX    Twitter         5     10     Canada  2023      1   15     8   \n",
       "2  FitnessFan  Instagram        20     40        USA  2023      1   15    15   \n",
       "3  AdventureX   Facebook         8     15         UK  2023      1   15    18   \n",
       "4    ChefCook  Instagram        12     25  Australia  2023      1   15    19   \n",
       "\n",
       "   id  TextLength HourSegment DaySegment    Quarter DayName  \n",
       "0   1          37        Noon  Month-Mid  Quarter-1  Sunday  \n",
       "1   2          34     Morning  Month-Mid  Quarter-1  Sunday  \n",
       "2   3          35        Noon  Month-Mid  Quarter-1  Sunday  \n",
       "3   4          43     Evening  Month-Mid  Quarter-1  Sunday  \n",
       "4   5          43     Evening  Month-Mid  Quarter-1  Sunday  "
      ]
     },
     "execution_count": 33,
     "metadata": {},
     "output_type": "execute_result"
    }
   ],
   "source": [
    "data.head()"
   ]
  },
  {
   "cell_type": "markdown",
   "metadata": {},
   "source": [
    "### Univariate Analysis"
   ]
  },
  {
   "cell_type": "markdown",
   "metadata": {},
   "source": [
    "#### Distribution of TextLength, Retweets and Likes"
   ]
  },
  {
   "cell_type": "code",
   "execution_count": 34,
   "metadata": {},
   "outputs": [
    {
     "data": {
      "image/png": "[encoded data removed]",
      "text/plain": [
       "<Figure size 432x288 with 1 Axes>"
      ]
     },
     "metadata": {
      "needs_background": "light"
     },
     "output_type": "display_data"
    }
   ],
   "source": [
    "sns.histplot(data=data, x=\"TextLength\", binwidth=20, binrange=(20, 160))\n",
    "plt.title(\"Distribution of Length of Post\")\n",
    "\n",
    "plt.show()"
   ]
  },
  {
   "cell_type": "code",
   "execution_count": 35,
   "metadata": {},
   "outputs": [
    {
     "data": {
      "image/png": "[encoded data removed]",
      "text/plain": [
       "<Figure size 432x288 with 1 Axes>"
      ]
     },
     "metadata": {
      "needs_background": "light"
     },
     "output_type": "display_data"
    }
   ],
   "source": [
    "sns.histplot(data=data, x=\"Retweets\", binwidth=5)\n",
    "plt.title(\"Distribution of Retweets of Post\")\n",
    "\n",
    "plt.show()"
   ]
  },
  {
   "cell_type": "code",
   "execution_count": 36,
   "metadata": {},
   "outputs": [
    {
     "data": {
      "image/png": "[encoded data removed]",
      "text/plain": [
       "<Figure size 432x288 with 1 Axes>"
      ]
     },
     "metadata": {
      "needs_background": "light"
     },
     "output_type": "display_data"
    }
   ],
   "source": [
    "sns.histplot(data=data, x=\"Likes\", binwidth=10)\n",
    "plt.title(\"Distribution of Likes of Post\")\n",
    "\n",
    "plt.show()"
   ]
  },
  {
   "cell_type": "markdown",
   "metadata": {},
   "source": [
    "Insights:-\n",
    "\n",
    "1. Majority of the Posts' Length lies in the range: `40-140`\n",
    "2. Majority of the Posts gets `15-30` Retweets\n",
    "3. Majority of the Posts `30-60` Likes\n"
   ]
  },
  {
   "cell_type": "markdown",
   "metadata": {},
   "source": [
    "Note:-\n",
    "- *It also seems like a post usually gets twice number of likes compared to retweets.*\n",
    "- I will test above statement later."
   ]
  },
  {
   "cell_type": "markdown",
   "metadata": {},
   "source": [
    "#### Boxplot for checking outliers and calculating pct of outliers"
   ]
  },
  {
   "cell_type": "code",
   "execution_count": 37,
   "metadata": {},
   "outputs": [
    {
     "data": {
      "image/png": "[encoded data removed]",
      "text/plain": [
       "<Figure size 432x288 with 1 Axes>"
      ]
     },
     "metadata": {
      "needs_background": "light"
     },
     "output_type": "display_data"
    }
   ],
   "source": [
    "sns.boxplot(data=data, y=\"Retweets\")\n",
    "plt.title(\"Box Plot of Retweets of Post\")\n",
    "\n",
    "plt.show()"
   ]
  },
  {
   "cell_type": "code",
   "execution_count": 38,
   "metadata": {},
   "outputs": [
    {
     "data": {
      "text/plain": [
       "7.0"
      ]
     },
     "execution_count": 38,
     "metadata": {},
     "output_type": "execute_result"
    }
   ],
   "source": [
    "p25 = np.percentile(data[\"Retweets\"], 25)\n",
    "p75 = np.percentile(data[\"Retweets\"], 75)\n",
    "\n",
    "iqr = p75 - p25\n",
    "iqr"
   ]
  },
  {
   "cell_type": "code",
   "execution_count": 39,
   "metadata": {},
   "outputs": [
    {
     "data": {
      "text/plain": [
       "25"
      ]
     },
     "execution_count": 39,
     "metadata": {},
     "output_type": "execute_result"
    }
   ],
   "source": [
    "outliers = data[(data[\"Retweets\"] > (p75 + 1.5*iqr)) | (data[\"Retweets\"] < (p25 - 1.5*iqr))].shape[0]\n",
    "outliers"
   ]
  },
  {
   "cell_type": "code",
   "execution_count": 40,
   "metadata": {},
   "outputs": [
    {
     "data": {
      "text/plain": [
       "3.5211267605633805"
      ]
     },
     "execution_count": 40,
     "metadata": {},
     "output_type": "execute_result"
    }
   ],
   "source": [
    "total = data.shape[0]\n",
    "outliers_pct = outliers * 100 / total\n",
    "\n",
    "outliers_pct"
   ]
  },
  {
   "cell_type": "markdown",
   "metadata": {},
   "source": [
    "Insights:-\n",
    "1. `25` retweets numbers or `3.52%` data-points are outliers."
   ]
  },
  {
   "cell_type": "markdown",
   "metadata": {},
   "source": [
    "#### Plots related to Trends of Posting"
   ]
  },
  {
   "cell_type": "code",
   "execution_count": 41,
   "metadata": {},
   "outputs": [
    {
     "data": {
      "image/png": "[encoded data removed]",
      "text/plain": [
       "<Figure size 432x288 with 1 Axes>"
      ]
     },
     "metadata": {
      "needs_background": "light"
     },
     "output_type": "display_data"
    }
   ],
   "source": [
    "sns.countplot(data=data, x = \"Year\")\n",
    "plt.title(\"Year-wise number of Post\")\n",
    "plt.xticks(rotation = 90)\n",
    "\n",
    "plt.show()"
   ]
  },
  {
   "cell_type": "code",
   "execution_count": 42,
   "metadata": {},
   "outputs": [
    {
     "data": {
      "image/png": "[encoded data removed]",
      "text/plain": [
       "<Figure size 432x288 with 1 Axes>"
      ]
     },
     "metadata": {
      "needs_background": "light"
     },
     "output_type": "display_data"
    }
   ],
   "source": [
    "sns.countplot(data=data, x = \"DayName\")\n",
    "plt.title(\"Day-wise number of Post\")\n",
    "plt.xticks(rotation = 90)\n",
    "\n",
    "plt.show()"
   ]
  },
  {
   "cell_type": "code",
   "execution_count": 43,
   "metadata": {},
   "outputs": [
    {
     "data": {
      "image/png": "[encoded data removed]",
      "text/plain": [
       "<Figure size 432x288 with 1 Axes>"
      ]
     },
     "metadata": {
      "needs_background": "light"
     },
     "output_type": "display_data"
    }
   ],
   "source": [
    "sns.countplot(data=data, x = \"Hour\")\n",
    "plt.title(\"Hour-wise number of Post\")\n",
    "\n",
    "plt.show()"
   ]
  },
  {
   "cell_type": "markdown",
   "metadata": {},
   "source": [
    "Insights:-\n",
    "1. There is a sudden-rise in number of posts in `2023`.\n",
    "2. Frequency of posts between `14-21` hour time-period is comparatively very high.\n",
    "3. Weekends i.e., `Saturday and Sunday` are the days of origin of maximum posts, followed by Tuesday and Friday"
   ]
  },
  {
   "cell_type": "markdown",
   "metadata": {},
   "source": [
    "#### Categorical Type Univariate Plots"
   ]
  },
  {
   "cell_type": "code",
   "execution_count": 44,
   "metadata": {},
   "outputs": [
    {
     "data": {
      "image/png": "[encoded data removed]",
      "text/plain": [
       "<Figure size 432x288 with 1 Axes>"
      ]
     },
     "metadata": {
      "needs_background": "light"
     },
     "output_type": "display_data"
    }
   ],
   "source": [
    "sns.countplot(data=data, x = \"Platform\")\n",
    "plt.title(\"Platform-wise Distribution of posts\")\n",
    "\n",
    "plt.show()"
   ]
  },
  {
   "cell_type": "code",
   "execution_count": 45,
   "metadata": {},
   "outputs": [
    {
     "data": {
      "image/png": "[encoded data removed]",
      "text/plain": [
       "<Figure size 432x288 with 1 Axes>"
      ]
     },
     "metadata": {
      "needs_background": "light"
     },
     "output_type": "display_data"
    }
   ],
   "source": [
    "sns.countplot(data=data, x = \"Quarter\")\n",
    "plt.title(\"Quarter-wise Distribution of posts\")\n",
    "\n",
    "plt.show()"
   ]
  },
  {
   "cell_type": "code",
   "execution_count": 46,
   "metadata": {},
   "outputs": [
    {
     "data": {
      "image/png": "[encoded data removed]",
      "text/plain": [
       "<Figure size 432x288 with 1 Axes>"
      ]
     },
     "metadata": {
      "needs_background": "light"
     },
     "output_type": "display_data"
    }
   ],
   "source": [
    "sns.countplot(data=data, x = \"DaySegment\")\n",
    "plt.title(\"Distribution of posts in different segments of a month\")\n",
    "\n",
    "plt.show()"
   ]
  },
  {
   "cell_type": "code",
   "execution_count": 47,
   "metadata": {},
   "outputs": [
    {
     "data": {
      "image/png": "[encoded data removed]",
      "text/plain": [
       "<Figure size 432x288 with 1 Axes>"
      ]
     },
     "metadata": {
      "needs_background": "light"
     },
     "output_type": "display_data"
    }
   ],
   "source": [
    "sns.countplot(data=data, x = \"HourSegment\")\n",
    "plt.title(\"Distribution of posts on a day\")\n",
    "\n",
    "plt.show()"
   ]
  },
  {
   "cell_type": "markdown",
   "metadata": {},
   "source": [
    "Insights:-\n",
    "1. *Instagram appears to be the highly used social media platform.*\n",
    "2. *Q1 and Q3 have comaparatively high number of posts.*\n",
    "3. *Mid-month period produced more number of Social Media Posts.*\n",
    "4. *Majority of posts are posted in evening hours while late-night hours produced almost negligible number of posts.*\n"
   ]
  },
  {
   "cell_type": "markdown",
   "metadata": {},
   "source": [
    "#### Top 10 Hashtags and Sentiments and related plots"
   ]
  },
  {
   "cell_type": "code",
   "execution_count": 48,
   "metadata": {},
   "outputs": [
    {
     "data": {
      "image/png": "[encoded data removed]",
      "text/plain": [
       "<Figure size 432x288 with 1 Axes>"
      ]
     },
     "metadata": {
      "needs_background": "light"
     },
     "output_type": "display_data"
    },
    {
     "data": {
      "text/plain": [
       "#Serenity       15\n",
       "#Excitement     13\n",
       "#Gratitude      12\n",
       "#Nostalgia      11\n",
       "#Despair        11\n",
       "#Curiosity      10\n",
       "#Contentment     9\n",
       "#Awe             9\n",
       "#Grief           9\n",
       "#Joy             8\n",
       "Name: Hashtags, dtype: int64"
      ]
     },
     "execution_count": 48,
     "metadata": {},
     "output_type": "execute_result"
    }
   ],
   "source": [
    "top_10_hashtags = data_hashtags[\"Hashtags\"].value_counts()[:10]\n",
    "\n",
    "sns.barplot(x = top_10_hashtags.index, y = top_10_hashtags.values)\n",
    "\n",
    "plt.title(\"Top 10 Hashtags\")\n",
    "plt.xticks(rotation = 90)\n",
    "plt.show()\n",
    "\n",
    "top_10_hashtags"
   ]
  },
  {
   "cell_type": "code",
   "execution_count": 49,
   "metadata": {},
   "outputs": [
    {
     "data": {
      "image/png": "[encoded data removed]",
      "text/plain": [
       "<Figure size 432x288 with 1 Axes>"
      ]
     },
     "metadata": {
      "needs_background": "light"
     },
     "output_type": "display_data"
    },
    {
     "data": {
      "text/plain": [
       "Joy            47\n",
       "Positive       45\n",
       "Excitement     37\n",
       "Neutral        18\n",
       "Contentment    18\n",
       "Gratitude      17\n",
       "Curiosity      16\n",
       "Serenity       15\n",
       "Happy          14\n",
       "Despair        11\n",
       "Name: Sentiment, dtype: int64"
      ]
     },
     "execution_count": 49,
     "metadata": {},
     "output_type": "execute_result"
    }
   ],
   "source": [
    "top_10_sentiments = data_sentiments[\"Sentiment\"].value_counts()[:10]\n",
    "\n",
    "sns.barplot(x = top_10_sentiments.index, y = top_10_sentiments.values)\n",
    "plt.title(\"Top 10 Sentiments\")\n",
    "plt.xticks(rotation = 90)\n",
    "plt.show()\n",
    "\n",
    "top_10_sentiments"
   ]
  },
  {
   "cell_type": "markdown",
   "metadata": {},
   "source": [
    "Insights:- As per frequency of posting-\n",
    "1. **`#Serenity, #Excitement and #Gratitude`** are the top 3 hashtags used.\n",
    "2. **`Joy, Positive and Excitement`** are the top 3 sentiments expressed."
   ]
  },
  {
   "cell_type": "markdown",
   "metadata": {},
   "source": [
    "### Bivariate Analysis"
   ]
  },
  {
   "cell_type": "markdown",
   "metadata": {},
   "source": [
    "#### Bivariate Continous vs Continous Plots:-\n",
    "- Checking correlation between Retweets and Likes"
   ]
  },
  {
   "cell_type": "code",
   "execution_count": 50,
   "metadata": {},
   "outputs": [
    {
     "data": {
      "image/png": "[encoded data removed]",
      "text/plain": [
       "<Figure size 432x288 with 1 Axes>"
      ]
     },
     "metadata": {
      "needs_background": "light"
     },
     "output_type": "display_data"
    }
   ],
   "source": [
    "sns.scatterplot(data=data, x=\"Retweets\", y=\"Likes\", hue=\"Platform\")\n",
    "\n",
    "plt.title(\"Distribution of data-points of Likes and Retweets\")\n",
    "plt.show()"
   ]
  },
  {
   "cell_type": "code",
   "execution_count": 51,
   "metadata": {},
   "outputs": [
    {
     "data": {
      "text/plain": [
       "0.9999999999999999"
      ]
     },
     "execution_count": 51,
     "metadata": {},
     "output_type": "execute_result"
    }
   ],
   "source": [
    "np.corrcoef(x=data[\"Retweets\"], y=data[\"Likes\"])[0, 0]"
   ]
  },
  {
   "cell_type": "markdown",
   "metadata": {},
   "source": [
    "Insights:-\n",
    "1. *Likes and Retweets numbers are linearly correlated*"
   ]
  },
  {
   "cell_type": "markdown",
   "metadata": {},
   "source": [
    "#### Bivariate Continous vs Categorical Plots"
   ]
  },
  {
   "cell_type": "markdown",
   "metadata": {},
   "source": [
    "##### 1. Bar plot of Likes and Retweets for different Platforms"
   ]
  },
  {
   "cell_type": "code",
   "execution_count": 52,
   "metadata": {},
   "outputs": [
    {
     "data": {
      "image/png": "[encoded data removed]",
      "text/plain": [
       "<Figure size 432x288 with 1 Axes>"
      ]
     },
     "metadata": {
      "needs_background": "light"
     },
     "output_type": "display_data"
    }
   ],
   "source": [
    "sns.barplot(data=data, x = \"Platform\", y = \"Retweets\")\n",
    "plt.title(\"Platform-wise engagement (retweets)\")\n",
    "\n",
    "plt.show()"
   ]
  },
  {
   "cell_type": "code",
   "execution_count": 53,
   "metadata": {},
   "outputs": [
    {
     "data": {
      "image/png": "[encoded data removed]",
      "text/plain": [
       "<Figure size 432x288 with 1 Axes>"
      ]
     },
     "metadata": {
      "needs_background": "light"
     },
     "output_type": "display_data"
    }
   ],
   "source": [
    "sns.barplot(data=data, x = \"Platform\", y = \"Likes\")\n",
    "plt.title(\"Platform-wise engagement (likes)\")\n",
    "\n",
    "plt.show()"
   ]
  },
  {
   "cell_type": "markdown",
   "metadata": {},
   "source": [
    "Insights:-\n",
    "1. *Instagram produces comparatively more engagement whereas,*\n",
    "2. *Twitter and Facebook have fairly same number of engagement.*"
   ]
  },
  {
   "cell_type": "markdown",
   "metadata": {},
   "source": [
    "##### 2. Box plot, IQR and Outliers for different Platform"
   ]
  },
  {
   "cell_type": "code",
   "execution_count": 54,
   "metadata": {},
   "outputs": [
    {
     "data": {
      "image/png": "[encoded data removed]",
      "text/plain": [
       "<Figure size 432x288 with 1 Axes>"
      ]
     },
     "metadata": {
      "needs_background": "light"
     },
     "output_type": "display_data"
    }
   ],
   "source": [
    "sns.boxplot(data=data, x = \"Platform\", y = \"Retweets\")\n",
    "plt.title(\"Box plot of Platform-wise engagement (retweets)\")\n",
    "\n",
    "plt.show()\n"
   ]
  },
  {
   "cell_type": "code",
   "execution_count": 55,
   "metadata": {},
   "outputs": [
    {
     "data": {
      "image/png": "[encoded data removed]",
      "text/plain": [
       "<Figure size 432x288 with 1 Axes>"
      ]
     },
     "metadata": {
      "needs_background": "light"
     },
     "output_type": "display_data"
    }
   ],
   "source": [
    "sns.boxplot(data=data, x = \"Platform\", y = \"Likes\")\n",
    "plt.title(\"Box plot of Platform-wise engagement (likes)\")\n",
    "\n",
    "plt.show()"
   ]
  },
  {
   "cell_type": "markdown",
   "metadata": {},
   "source": [
    "##### 3. Outliers Percentage"
   ]
  },
  {
   "cell_type": "markdown",
   "metadata": {},
   "source": [
    "a. Outliers for Twitter"
   ]
  },
  {
   "cell_type": "code",
   "execution_count": 56,
   "metadata": {},
   "outputs": [
    {
     "name": "stdout",
     "output_type": "stream",
     "text": [
      "Range: 4.375 to 37.375\n",
      "Count of Twitter outliers: 4\n"
     ]
    }
   ],
   "source": [
    "twitter_retweets = data[data[\"Platform\"] == \"Twitter\"][\"Retweets\"]\n",
    "\n",
    "p25 = np.percentile(twitter_retweets, 25)\n",
    "p75 = np.percentile(twitter_retweets, 75)\n",
    "\n",
    "iqr = p75 - p25\n",
    "\n",
    "print(f\"Range: {p25 - 1.5*iqr} to {p75 + 1.5*iqr}\")\n",
    "\n",
    "twitter_outliers = twitter_retweets[(twitter_retweets <= p25 - 1.5*iqr) | (twitter_retweets >= p75 + 1.5*iqr)].size\n",
    "\n",
    "print(f\"Count of Twitter outliers: {twitter_outliers}\")"
   ]
  },
  {
   "cell_type": "markdown",
   "metadata": {},
   "source": [
    "b. Instagram Outliers"
   ]
  },
  {
   "cell_type": "code",
   "execution_count": 57,
   "metadata": {},
   "outputs": [
    {
     "name": "stdout",
     "output_type": "stream",
     "text": [
      "Range: 3.0 to 43.0\n",
      "Count of Instagram outliers: 0\n"
     ]
    }
   ],
   "source": [
    "ig_retweets = data[data[\"Platform\"] == \"Instagram\"][\"Retweets\"]\n",
    "\n",
    "p25 = np.percentile(ig_retweets, 25)\n",
    "p75 = np.percentile(ig_retweets, 75)\n",
    "\n",
    "iqr = p75 - p25\n",
    "\n",
    "print(f\"Range: {p25 - 1.5*iqr} to {p75 + 1.5*iqr}\")\n",
    "\n",
    "ig_outliers = ig_retweets[(ig_retweets <= p25 - 1.5*iqr) | (ig_retweets >= p75 + 1.5*iqr)].size\n",
    "\n",
    "print(f\"Count of Instagram outliers: {ig_outliers}\")"
   ]
  },
  {
   "cell_type": "markdown",
   "metadata": {},
   "source": [
    "c. Facebook Outliers"
   ]
  },
  {
   "cell_type": "code",
   "execution_count": 58,
   "metadata": {},
   "outputs": [
    {
     "name": "stdout",
     "output_type": "stream",
     "text": [
      "Range: 2.5 to 38.5\n",
      "Count of Facebook Outliers: 1\n"
     ]
    }
   ],
   "source": [
    "fb_retweets = data[data[\"Platform\"] == \"Facebook\"][\"Retweets\"]\n",
    "\n",
    "p25 = np.percentile(fb_retweets, 25)\n",
    "p75 = np.percentile(fb_retweets, 75)\n",
    "\n",
    "iqr = p75 - p25\n",
    "\n",
    "print(f\"Range: {p25 - 1.5*iqr} to {p75 + 1.5*iqr}\")\n",
    "\n",
    "fb_outliers = fb_retweets[(fb_retweets <= p25 - 1.5*iqr) | (fb_retweets >= p75 + 1.5*iqr)].size\n",
    "\n",
    "print(f\"Count of Facebook Outliers: {fb_outliers}\")"
   ]
  },
  {
   "cell_type": "markdown",
   "metadata": {},
   "source": [
    "##### 4. Top 10 Hashtags, Sentiments and Country"
   ]
  },
  {
   "cell_type": "code",
   "execution_count": 59,
   "metadata": {},
   "outputs": [
    {
     "data": {
      "image/png": "[encoded data removed]",
      "text/plain": [
       "<Figure size 432x288 with 1 Axes>"
      ]
     },
     "metadata": {
      "needs_background": "light"
     },
     "output_type": "display_data"
    }
   ],
   "source": [
    "df = pd.merge(left=data[[\"id\", \"Likes\"]], right=data_hashtags, on=\"id\", how=\"inner\")\n",
    "top_10_hashtags = df.groupby(\"Hashtags\")[\"Likes\"].sum().sort_values(ascending=False)[:10]\n",
    "\n",
    "\n",
    "sns.barplot(x = top_10_hashtags.index, y = top_10_hashtags.values)\n",
    "plt.title(\"Top 10 Hashtags by Engagement (Likes)\")\n",
    "plt.xticks(rotation = 90)\n",
    "\n",
    "plt.show()"
   ]
  },
  {
   "cell_type": "code",
   "execution_count": 60,
   "metadata": {},
   "outputs": [
    {
     "data": {
      "image/png": "[encoded data removed]",
      "text/plain": [
       "<Figure size 432x288 with 1 Axes>"
      ]
     },
     "metadata": {
      "needs_background": "light"
     },
     "output_type": "display_data"
    }
   ],
   "source": [
    "df = pd.merge(left=data[[\"id\", \"Retweets\"]], right=data_hashtags, on=\"id\", how=\"inner\")\n",
    "top_10_hashtags = df.groupby(\"Hashtags\")[\"Retweets\"].sum().sort_values(ascending=False)[:10]\n",
    "\n",
    "sns.barplot(x = top_10_hashtags.index, y = top_10_hashtags.values)\n",
    "plt.title(\"Top 10 Hashtags by Engagement (Retweets)\")\n",
    "plt.xticks(rotation = 90)\n",
    "\n",
    "plt.show()"
   ]
  },
  {
   "cell_type": "code",
   "execution_count": 61,
   "metadata": {},
   "outputs": [
    {
     "data": {
      "image/png": "[encoded data removed]",
      "text/plain": [
       "<Figure size 432x288 with 1 Axes>"
      ]
     },
     "metadata": {
      "needs_background": "light"
     },
     "output_type": "display_data"
    }
   ],
   "source": [
    "df = pd.merge(left=data[[\"id\", \"Likes\"]], right=data_sentiments, on=\"id\", how=\"inner\")\n",
    "top_10_sentiments = df.groupby(\"Sentiment\")[\"Likes\"].sum().sort_values(ascending=False)[:10]\n",
    "\n",
    "sns.barplot(x = top_10_sentiments.index, y = top_10_sentiments.values)\n",
    "plt.title(\"Top 10 Sentiments Expressed by Engagement (Likes)\")\n",
    "plt.xticks(rotation = 90)\n",
    "\n",
    "plt.show()"
   ]
  },
  {
   "cell_type": "code",
   "execution_count": 62,
   "metadata": {},
   "outputs": [
    {
     "data": {
      "image/png": "[encoded data removed]",
      "text/plain": [
       "<Figure size 432x288 with 1 Axes>"
      ]
     },
     "metadata": {
      "needs_background": "light"
     },
     "output_type": "display_data"
    }
   ],
   "source": [
    "df = pd.merge(left=data[[\"id\", \"Retweets\"]], right=data_sentiments, on=\"id\", how=\"inner\")\n",
    "top_10_sentiments = df.groupby(\"Sentiment\")[\"Retweets\"].sum().sort_values(ascending=False)[:10]\n",
    "\n",
    "sns.barplot(x = top_10_sentiments.index, y = top_10_sentiments.values)\n",
    "plt.title(\"Top 10 Sentiments Expressed by Engagement (Retweets)\")\n",
    "plt.xticks(rotation = 90)\n",
    "\n",
    "plt.show()"
   ]
  },
  {
   "cell_type": "code",
   "execution_count": 63,
   "metadata": {},
   "outputs": [
    {
     "data": {
      "image/png": "[encoded data removed]",
      "text/plain": [
       "<Figure size 432x288 with 1 Axes>"
      ]
     },
     "metadata": {
      "needs_background": "light"
     },
     "output_type": "display_data"
    }
   ],
   "source": [
    "top_10_country = data.groupby(\"Country\")[\"Likes\"].sum().sort_values(ascending=False)[:10]\n",
    "\n",
    "sns.barplot(x = top_10_country.index, y = top_10_country.values)\n",
    "plt.title(\"Top 10 Countries showing high Engagement (Likes)\")\n",
    "plt.xticks(rotation = 90)\n",
    "\n",
    "plt.show()"
   ]
  },
  {
   "cell_type": "code",
   "execution_count": 64,
   "metadata": {},
   "outputs": [
    {
     "data": {
      "image/png": "[encoded data removed]",
      "text/plain": [
       "<Figure size 432x288 with 1 Axes>"
      ]
     },
     "metadata": {
      "needs_background": "light"
     },
     "output_type": "display_data"
    }
   ],
   "source": [
    "top_10_country = data.groupby(\"Country\")[\"Retweets\"].sum().sort_values(ascending=False)[:10]\n",
    "\n",
    "sns.barplot(x = top_10_country.index, y = top_10_country.values)\n",
    "plt.title(\"Top 10 Countries showing high Engagement (Retweets)\")\n",
    "plt.xticks(rotation = 90)\n",
    "\n",
    "plt.show()"
   ]
  },
  {
   "cell_type": "markdown",
   "metadata": {},
   "source": [
    "Insights:-\n",
    "1. **`#Excitement, #Serenity and #Gratitude`** are the top 3 hashtags that produced highest engagement.\n",
    "2. **`Joy, Excitement and Positive`** are the top 3 sentiments that attracts highest engagement.\n",
    "3. **`USA, UK and Canada`** are the top 3 countries with highest engagement."
   ]
  },
  {
   "cell_type": "markdown",
   "metadata": {},
   "source": [
    "#### Time-Series (Trend) Analysis"
   ]
  },
  {
   "cell_type": "markdown",
   "metadata": {},
   "source": [
    "a. Year wise growth in Engagement"
   ]
  },
  {
   "cell_type": "code",
   "execution_count": 65,
   "metadata": {},
   "outputs": [
    {
     "data": {
      "image/png": "[encoded data removed]",
      "text/plain": [
       "<Figure size 432x288 with 1 Axes>"
      ]
     },
     "metadata": {
      "needs_background": "light"
     },
     "output_type": "display_data"
    }
   ],
   "source": [
    "sns.lineplot(data=data, x=\"Year\", y=\"Retweets\", hue=\"Platform\", estimator=np.sum)\n",
    "plt.xticks(rotation = 90)\n",
    "plt.show()"
   ]
  },
  {
   "cell_type": "code",
   "execution_count": 66,
   "metadata": {},
   "outputs": [
    {
     "data": {
      "image/png": "[encoded data removed]",
      "text/plain": [
       "<Figure size 432x288 with 1 Axes>"
      ]
     },
     "metadata": {
      "needs_background": "light"
     },
     "output_type": "display_data"
    }
   ],
   "source": [
    "sns.lineplot(data=data, x=\"Year\", y=\"Likes\", hue=\"Platform\", estimator=np.sum)\n",
    "plt.xticks(rotation = 90)\n",
    "plt.show()"
   ]
  },
  {
   "cell_type": "markdown",
   "metadata": {},
   "source": [
    "b. Daily engagement"
   ]
  },
  {
   "cell_type": "code",
   "execution_count": 67,
   "metadata": {},
   "outputs": [
    {
     "data": {
      "image/png": "[encoded data removed]",
      "text/plain": [
       "<Figure size 432x288 with 1 Axes>"
      ]
     },
     "metadata": {
      "needs_background": "light"
     },
     "output_type": "display_data"
    }
   ],
   "source": [
    "sns.lineplot(data=data, x=\"Hour\", y=\"Retweets\", hue=\"Platform\", estimator=np.sum)\n",
    "plt.show()"
   ]
  },
  {
   "cell_type": "code",
   "execution_count": 68,
   "metadata": {},
   "outputs": [
    {
     "data": {
      "text/plain": [
       "<AxesSubplot:xlabel='Hour', ylabel='Likes'>"
      ]
     },
     "execution_count": 68,
     "metadata": {},
     "output_type": "execute_result"
    },
    {
     "data": {
      "image/png": "[encoded data removed]",
      "text/plain": [
       "<Figure size 432x288 with 1 Axes>"
      ]
     },
     "metadata": {
      "needs_background": "light"
     },
     "output_type": "display_data"
    }
   ],
   "source": [
    "sns.lineplot(data=data, x=\"Hour\", y=\"Likes\", hue=\"Platform\", estimator=np.sum)"
   ]
  },
  {
   "cell_type": "markdown",
   "metadata": {},
   "source": [
    "Insights:-\n",
    "1. There is a **sudden-rise in engagement in `2023`** for all 3 social media platforms.\n",
    "2. **Evening hours gets the peak engagement for `Facebook and Twitter` platform, whereas `Instagram` gets peak engagement during Noon Hours.**\n",
    "3. Overall **`Instagram`** gets highest engagement.\n",
    "4. `Late Night` produce negligible engagement for all 3 platforms."
   ]
  },
  {
   "cell_type": "markdown",
   "metadata": {},
   "source": [
    "### Multivariate Plots"
   ]
  },
  {
   "cell_type": "markdown",
   "metadata": {},
   "source": [
    "#### A. Create a heatmap to visualize engagement activity by hour and day. Investigate if there's a preferred time of day for posting for each sentiment."
   ]
  },
  {
   "cell_type": "code",
   "execution_count": 69,
   "metadata": {},
   "outputs": [
    {
     "data": {
      "image/png": "[encoded data removed]",
      "text/plain": [
       "<Figure size 432x288 with 2 Axes>"
      ]
     },
     "metadata": {
      "needs_background": "light"
     },
     "output_type": "display_data"
    }
   ],
   "source": [
    "tmp = pd.crosstab(index=data[\"HourSegment\"], columns=data[\"DaySegment\"])\n",
    "sns.heatmap(tmp, cmap=\"crest\")\n",
    "plt.title(\"Heatmap to visualize engagement(frequency of posts) activity by hour and day\")\n",
    "plt.show()"
   ]
  },
  {
   "cell_type": "code",
   "execution_count": 70,
   "metadata": {},
   "outputs": [
    {
     "data": {
      "image/png": "[encoded data removed]",
      "text/plain": [
       "<Figure size 432x288 with 2 Axes>"
      ]
     },
     "metadata": {
      "needs_background": "light"
     },
     "output_type": "display_data"
    }
   ],
   "source": [
    "tmp = pd.crosstab(index=data[\"HourSegment\"], columns=data[\"DaySegment\"], aggfunc=np.sum, values=data[\"Retweets\"])\n",
    "sns.heatmap(tmp, cmap=\"crest\")\n",
    "plt.title(\"Heatmap to visualize engagement(number of retweets) activity by hour and day\")\n",
    "plt.show()"
   ]
  },
  {
   "cell_type": "code",
   "execution_count": 71,
   "metadata": {},
   "outputs": [
    {
     "data": {
      "image/png": "[encoded data removed]",
      "text/plain": [
       "<Figure size 432x288 with 2 Axes>"
      ]
     },
     "metadata": {
      "needs_background": "light"
     },
     "output_type": "display_data"
    }
   ],
   "source": [
    "tmp = pd.crosstab(index=data[\"HourSegment\"], columns=data[\"DaySegment\"], aggfunc=np.sum, values=data[\"Likes\"])\n",
    "sns.heatmap(tmp, cmap=\"crest\")\n",
    "plt.title(\"Heatmap to visualize engagement(number of retweets) activity by hour and day\")\n",
    "plt.show()"
   ]
  },
  {
   "cell_type": "markdown",
   "metadata": {},
   "source": [
    "Insights:-\n",
    "1. *Above Heatmaps implies that engagement/usage is very high in Evening Hours and mid-month time period.*"
   ]
  },
  {
   "cell_type": "markdown",
   "metadata": {},
   "source": [
    "#### B. Analyze the distribution of posts across different platforms and their associated sentiments."
   ]
  },
  {
   "cell_type": "code",
   "execution_count": 72,
   "metadata": {},
   "outputs": [
    {
     "data": {
      "text/plain": [
       "Positive        13\n",
       "Excitement      13\n",
       "Joy             10\n",
       "Gratitude        7\n",
       "Neutral          6\n",
       "                ..\n",
       "Sorrow           1\n",
       "Intimidation     1\n",
       "Grief            1\n",
       "Anticipation     1\n",
       "Culinary         1\n",
       "Name: Sentiment, Length: 121, dtype: int64"
      ]
     },
     "execution_count": 72,
     "metadata": {},
     "output_type": "execute_result"
    }
   ],
   "source": [
    "df = pd.merge(left=data[[\"id\", \"Platform\", \"Likes\", \"Retweets\"]], right=data_sentiments, on=\"id\", how=\"inner\")\n",
    "\n",
    "twitter_data = df[df[\"Platform\"] == \"Twitter\"]\n",
    "twitter_data[\"Sentiment\"].value_counts()"
   ]
  },
  {
   "cell_type": "code",
   "execution_count": 73,
   "metadata": {},
   "outputs": [
    {
     "data": {
      "text/plain": [
       "Positive       16\n",
       "Joy            15\n",
       "Excitement     13\n",
       "Happy           6\n",
       "Contentment     6\n",
       "               ..\n",
       "Jealousy        1\n",
       "Coziness        1\n",
       "Vibrancy        1\n",
       "Connection      1\n",
       "Romance         1\n",
       "Name: Sentiment, Length: 122, dtype: int64"
      ]
     },
     "execution_count": 73,
     "metadata": {},
     "output_type": "execute_result"
    }
   ],
   "source": [
    "ig_data = df[df[\"Platform\"] == \"Instagram\"]\n",
    "ig_data[\"Sentiment\"].value_counts()"
   ]
  },
  {
   "cell_type": "code",
   "execution_count": 74,
   "metadata": {},
   "outputs": [
    {
     "data": {
      "text/plain": [
       "Joy            22\n",
       "Positive       16\n",
       "Excitement     11\n",
       "Curiosity       6\n",
       "Contentment     6\n",
       "               ..\n",
       "Resilience      1\n",
       "Festive         1\n",
       "Envy            1\n",
       "Calmness        1\n",
       "Surprise        1\n",
       "Name: Sentiment, Length: 102, dtype: int64"
      ]
     },
     "execution_count": 74,
     "metadata": {},
     "output_type": "execute_result"
    }
   ],
   "source": [
    "fb_data = df[df[\"Platform\"] == \"Facebook\"]\n",
    "fb_data[\"Sentiment\"].value_counts()"
   ]
  },
  {
   "cell_type": "code",
   "execution_count": 75,
   "metadata": {},
   "outputs": [
    {
     "data": {
      "text/plain": [
       "Joy            47\n",
       "Positive       45\n",
       "Excitement     37\n",
       "Neutral        18\n",
       "Contentment    18\n",
       "               ..\n",
       "Festive         1\n",
       "Beauty          1\n",
       "Positivity      1\n",
       "Bittersweet     1\n",
       "Storm           1\n",
       "Name: Sentiment, Length: 202, dtype: int64"
      ]
     },
     "execution_count": 75,
     "metadata": {},
     "output_type": "execute_result"
    }
   ],
   "source": [
    "data_sentiments[\"Sentiment\"].value_counts()"
   ]
  },
  {
   "cell_type": "markdown",
   "metadata": {},
   "source": [
    "Note:- \n",
    "1. `'Joy', 'Positive' and 'Excitement'` are the top 3 expressed Sentiments and generates highest engagement."
   ]
  },
  {
   "cell_type": "code",
   "execution_count": 76,
   "metadata": {},
   "outputs": [],
   "source": [
    "top_3_sentiments = ['Joy', 'Positive', 'Excitement']"
   ]
  },
  {
   "cell_type": "code",
   "execution_count": 77,
   "metadata": {},
   "outputs": [
    {
     "data": {
      "image/png": "[encoded data removed]",
      "text/plain": [
       "<Figure size 432x288 with 1 Axes>"
      ]
     },
     "metadata": {
      "needs_background": "light"
     },
     "output_type": "display_data"
    }
   ],
   "source": [
    "top_3_sentiments_data = df[df[\"Sentiment\"].isin(top_3_sentiments)]\n",
    "sns.countplot(data = top_3_sentiments_data, x = \"Sentiment\", hue=\"Platform\")\n",
    "plt.show()"
   ]
  },
  {
   "cell_type": "code",
   "execution_count": 78,
   "metadata": {},
   "outputs": [
    {
     "data": {
      "image/png": "[encoded data removed]",
      "text/plain": [
       "<Figure size 432x288 with 1 Axes>"
      ]
     },
     "metadata": {
      "needs_background": "light"
     },
     "output_type": "display_data"
    }
   ],
   "source": [
    "sns.barplot(data = top_3_sentiments_data, x = \"Sentiment\", y = \"Likes\", hue=\"Platform\")\n",
    "plt.show()"
   ]
  },
  {
   "cell_type": "code",
   "execution_count": 79,
   "metadata": {},
   "outputs": [
    {
     "data": {
      "image/png": "[encoded data removed]",
      "text/plain": [
       "<Figure size 432x288 with 1 Axes>"
      ]
     },
     "metadata": {
      "needs_background": "light"
     },
     "output_type": "display_data"
    }
   ],
   "source": [
    "sns.barplot(data = top_3_sentiments_data, x = \"Sentiment\", y = \"Retweets\", hue=\"Platform\")\n",
    "plt.show()"
   ]
  },
  {
   "cell_type": "markdown",
   "metadata": {},
   "source": [
    "Insights:-\n",
    "1. `Instagram` engage more audience in posts related to top 3 Sentiments.\n",
    "2. *Despite, there are more posts related to `Joy` sentiments on Facebook, but it can not engage more audience as Instagram beats facebook in terms of Engagement.*\n",
    "3. `Twitter` have slightly less engagement in posts related to top 3 Sentiments."
   ]
  },
  {
   "cell_type": "markdown",
   "metadata": {},
   "source": [
    "#### C. Identify top users by engagement metrics and analyze their sentiment distribution."
   ]
  },
  {
   "cell_type": "code",
   "execution_count": 80,
   "metadata": {},
   "outputs": [],
   "source": [
    "top_5_user = data.groupby(\"User\")[\"Likes\"].sum().sort_values(ascending=False)[:5].index\n",
    "top_5_user_data = data[data[\"User\"].isin(top_5_user)]"
   ]
  },
  {
   "cell_type": "code",
   "execution_count": 81,
   "metadata": {},
   "outputs": [
    {
     "data": {
      "text/plain": [
       "Sentiment\n",
       "Wonder        160\n",
       "Harmony       140\n",
       "Elation        80\n",
       "Adventure      70\n",
       "Culinary       70\n",
       "Odyssey        70\n",
       "Awe            55\n",
       "Positive       45\n",
       "Admiration     40\n",
       "Immersion      40\n",
       "Reverence      35\n",
       "Name: Likes, dtype: uint8"
      ]
     },
     "execution_count": 81,
     "metadata": {},
     "output_type": "execute_result"
    }
   ],
   "source": [
    "df = pd.merge(left = top_5_user_data, right = data_sentiments, on=\"id\", how=\"inner\")\n",
    "\n",
    "grouped_data = df.groupby(\"Sentiment\")[\"Likes\"].sum().sort_values(ascending=False)\n",
    "grouped_data"
   ]
  },
  {
   "cell_type": "code",
   "execution_count": 82,
   "metadata": {},
   "outputs": [
    {
     "data": {
      "image/png": "[encoded data removed]",
      "text/plain": [
       "<Figure size 432x288 with 1 Axes>"
      ]
     },
     "metadata": {
      "needs_background": "light"
     },
     "output_type": "display_data"
    }
   ],
   "source": [
    "sns.barplot(x = grouped_data.index, y = grouped_data.values)\n",
    "plt.xticks(rotation = 90)\n",
    "plt.show()"
   ]
  },
  {
   "cell_type": "markdown",
   "metadata": {},
   "source": [
    "Insights:-\n",
    "1. Users with maximum engagements often expresses `'Wonder' and 'Harmony'` followed by `'Elation', 'Adventure', 'Culinary' and 'Odyssey'` as their sentiments."
   ]
  },
  {
   "cell_type": "markdown",
   "metadata": {},
   "source": [
    "### Test if there is a significant difference in engagement (likes, retweets) between different sentiments."
   ]
  },
  {
   "cell_type": "code",
   "execution_count": 83,
   "metadata": {},
   "outputs": [],
   "source": [
    "def print_test_result(p_value, alpha, Ho, Ha):\n",
    "    if p_value < alpha:\n",
    "        print(\"Reject Null Hypothesis\")\n",
    "        print(Ha)\n",
    "    else:\n",
    "        print(\"Failed to reject Null Hypothesis\")\n",
    "        print(Ho)\n"
   ]
  },
  {
   "cell_type": "code",
   "execution_count": 84,
   "metadata": {},
   "outputs": [
    {
     "data": {
      "text/plain": [
       "['Joy', 'Positive', 'Excitement']"
      ]
     },
     "execution_count": 84,
     "metadata": {},
     "output_type": "execute_result"
    }
   ],
   "source": [
    "top_3_sentiments"
   ]
  },
  {
   "cell_type": "code",
   "execution_count": 85,
   "metadata": {},
   "outputs": [
    {
     "data": {
      "text/html": [
       "<div>\n",
       "<style scoped>\n",
       "    .dataframe tbody tr th:only-of-type {\n",
       "        vertical-align: middle;\n",
       "    }\n",
       "\n",
       "    .dataframe tbody tr th {\n",
       "        vertical-align: top;\n",
       "    }\n",
       "\n",
       "    .dataframe thead th {\n",
       "        text-align: right;\n",
       "    }\n",
       "</style>\n",
       "<table border=\"1\" class=\"dataframe\">\n",
       "  <thead>\n",
       "    <tr style=\"text-align: right;\">\n",
       "      <th></th>\n",
       "      <th>id</th>\n",
       "      <th>Retweets</th>\n",
       "      <th>Likes</th>\n",
       "      <th>Sentiment</th>\n",
       "    </tr>\n",
       "  </thead>\n",
       "  <tbody>\n",
       "    <tr>\n",
       "      <th>0</th>\n",
       "      <td>1</td>\n",
       "      <td>15</td>\n",
       "      <td>30</td>\n",
       "      <td>Positive</td>\n",
       "    </tr>\n",
       "    <tr>\n",
       "      <th>1</th>\n",
       "      <td>3</td>\n",
       "      <td>20</td>\n",
       "      <td>40</td>\n",
       "      <td>Positive</td>\n",
       "    </tr>\n",
       "    <tr>\n",
       "      <th>2</th>\n",
       "      <td>4</td>\n",
       "      <td>8</td>\n",
       "      <td>15</td>\n",
       "      <td>Positive</td>\n",
       "    </tr>\n",
       "    <tr>\n",
       "      <th>3</th>\n",
       "      <td>6</td>\n",
       "      <td>25</td>\n",
       "      <td>50</td>\n",
       "      <td>Positive</td>\n",
       "    </tr>\n",
       "    <tr>\n",
       "      <th>4</th>\n",
       "      <td>7</td>\n",
       "      <td>10</td>\n",
       "      <td>20</td>\n",
       "      <td>Positive</td>\n",
       "    </tr>\n",
       "  </tbody>\n",
       "</table>\n",
       "</div>"
      ],
      "text/plain": [
       "   id  Retweets  Likes Sentiment\n",
       "0   1        15     30  Positive\n",
       "1   3        20     40  Positive\n",
       "2   4         8     15  Positive\n",
       "3   6        25     50  Positive\n",
       "4   7        10     20  Positive"
      ]
     },
     "execution_count": 85,
     "metadata": {},
     "output_type": "execute_result"
    }
   ],
   "source": [
    "top_3_sentiments_data = pd.merge(left = data[[\"id\", \"Retweets\", \"Likes\"]], right = data_sentiments[data_sentiments[\"Sentiment\"].isin(top_3_sentiments)], on = \"id\", how = \"inner\")\n",
    "top_3_sentiments_data.head()"
   ]
  },
  {
   "cell_type": "markdown",
   "metadata": {},
   "source": [
    "#### Conducting appropriate tests on likes data."
   ]
  },
  {
   "cell_type": "code",
   "execution_count": 86,
   "metadata": {},
   "outputs": [],
   "source": [
    "positive_likes_data = top_3_sentiments_data[top_3_sentiments_data[\"Sentiment\"] == \"Positive\"][\"Likes\"]\n",
    "joy_likes_data = top_3_sentiments_data[top_3_sentiments_data[\"Sentiment\"] == \"Joy\"][\"Likes\"]\n",
    "excitement_likes_data = top_3_sentiments_data[top_3_sentiments_data[\"Sentiment\"] == \"Excitement\"][\"Likes\"]\n"
   ]
  },
  {
   "cell_type": "markdown",
   "metadata": {},
   "source": [
    "1. Checking Normality of distribution of likes for top 3 sentiments"
   ]
  },
  {
   "cell_type": "code",
   "execution_count": 87,
   "metadata": {},
   "outputs": [],
   "source": [
    "Ho =\"Data is Normally Distributed\"\n",
    "Ha = \"Data is not Normally Distributed\"\n",
    "\n",
    "alpha = 0.05"
   ]
  },
  {
   "cell_type": "code",
   "execution_count": 88,
   "metadata": {},
   "outputs": [
    {
     "name": "stdout",
     "output_type": "stream",
     "text": [
      "Reject Null Hypothesis\n",
      "Data is not Normally Distributed\n"
     ]
    }
   ],
   "source": [
    "# Normality test of positive_likes_data\n",
    "stat, p_value = stats.shapiro(positive_likes_data)\n",
    "print_test_result(p_value, alpha, Ho, Ha)"
   ]
  },
  {
   "cell_type": "code",
   "execution_count": 89,
   "metadata": {},
   "outputs": [
    {
     "name": "stdout",
     "output_type": "stream",
     "text": [
      "Reject Null Hypothesis\n",
      "Data is not Normally Distributed\n"
     ]
    }
   ],
   "source": [
    "# Normality test of joy_likes_data\n",
    "stat, p_value = stats.shapiro(joy_likes_data)\n",
    "print_test_result(p_value, alpha, Ho, Ha)"
   ]
  },
  {
   "cell_type": "code",
   "execution_count": 90,
   "metadata": {},
   "outputs": [
    {
     "name": "stdout",
     "output_type": "stream",
     "text": [
      "Failed to reject Null Hypothesis\n",
      "Data is Normally Distributed\n"
     ]
    }
   ],
   "source": [
    "# Normality test of excitement_likes_data\n",
    "stat, p_value = stats.shapiro(excitement_likes_data)\n",
    "print_test_result(p_value, alpha, Ho, Ha)"
   ]
  },
  {
   "cell_type": "markdown",
   "metadata": {},
   "source": [
    "- Sentiments data is not normally distributed.\n",
    "- So Perform Kruskal test to check whether distribution is same throughtout these sentiments or not."
   ]
  },
  {
   "cell_type": "markdown",
   "metadata": {},
   "source": [
    "2. Conducting Kruskal test on above 3 founded likes data with 5% significance level"
   ]
  },
  {
   "cell_type": "code",
   "execution_count": 91,
   "metadata": {},
   "outputs": [],
   "source": [
    "Ho = \"Average number of Likes is essentially same throughout different Sentiments\"\n",
    "Ha = \"There is a significance difference in average number of Likes for different sentiments\"\n",
    "\n",
    "alpha = 0.05"
   ]
  },
  {
   "cell_type": "code",
   "execution_count": 92,
   "metadata": {},
   "outputs": [
    {
     "name": "stdout",
     "output_type": "stream",
     "text": [
      "Reject Null Hypothesis\n",
      "There is a significance difference in average number of Likes for different sentiments\n"
     ]
    }
   ],
   "source": [
    "f_stat, p_value = stats.kruskal(positive_likes_data, joy_likes_data, excitement_likes_data)\n",
    "\n",
    "print_test_result(p_value, alpha, Ho, Ha)"
   ]
  },
  {
   "cell_type": "markdown",
   "metadata": {},
   "source": [
    "3. Conducting pair-wise t-test now."
   ]
  },
  {
   "cell_type": "markdown",
   "metadata": {},
   "source": [
    "3. a.) T-Test b/w `Positive vs Joy` Sentiments"
   ]
  },
  {
   "cell_type": "code",
   "execution_count": 93,
   "metadata": {},
   "outputs": [
    {
     "name": "stdout",
     "output_type": "stream",
     "text": [
      "Reject Null Hypothesis\n",
      "There is a significance difference in average number of Likes for different sentiments\n"
     ]
    }
   ],
   "source": [
    "Ho = \"Average number of Likes is essentially same for posts expressing Positive and Joy as Sentiments\"\n",
    "Ha = \"There is a significance difference in average number of Likes for different sentiments\"\n",
    "\n",
    "alpha = 0.05\n",
    "\n",
    "t_stat, p_value = stats.ttest_ind(positive_likes_data, joy_likes_data)\n",
    "\n",
    "print_test_result(p_value, alpha, Ho, Ha)"
   ]
  },
  {
   "cell_type": "markdown",
   "metadata": {},
   "source": [
    "3. b.) T-Test b/w `Positive vs Excitement` Sentiments"
   ]
  },
  {
   "cell_type": "code",
   "execution_count": 94,
   "metadata": {},
   "outputs": [
    {
     "name": "stdout",
     "output_type": "stream",
     "text": [
      "Reject Null Hypothesis\n",
      "There is a significance difference in average number of Likes for different sentiments\n"
     ]
    }
   ],
   "source": [
    "Ho = \"Average number of Likes is essentially same for posts expressing Positive and Excitement as Sentiments\"\n",
    "Ha = \"There is a significance difference in average number of Likes for different sentiments\"\n",
    "\n",
    "alpha = 0.05\n",
    "\n",
    "t_stat, p_value = stats.ttest_ind(positive_likes_data, excitement_likes_data)\n",
    "\n",
    "print_test_result(p_value, alpha, Ho, Ha)"
   ]
  },
  {
   "cell_type": "markdown",
   "metadata": {},
   "source": [
    "3. c.) T-Test b/w `Excitement vs Joy` Sentiments"
   ]
  },
  {
   "cell_type": "code",
   "execution_count": 95,
   "metadata": {},
   "outputs": [
    {
     "name": "stdout",
     "output_type": "stream",
     "text": [
      "Failed to reject Null Hypothesis\n",
      "Average number of Likes is essentially same for posts expressing Excitement and Joy as Sentiments\n"
     ]
    }
   ],
   "source": [
    "Ho = \"Average number of Likes is essentially same for posts expressing Excitement and Joy as Sentiments\"\n",
    "Ha = \"There is a significance difference in average number of Likes for different sentiments\"\n",
    "\n",
    "alpha = 0.05\n",
    "\n",
    "t_stat, p_value = stats.ttest_ind(excitement_likes_data, joy_likes_data)\n",
    "\n",
    "print_test_result(p_value, alpha, Ho, Ha)"
   ]
  },
  {
   "cell_type": "markdown",
   "metadata": {},
   "source": [
    "Overall average number number of likes differs between Sentiments."
   ]
  },
  {
   "cell_type": "markdown",
   "metadata": {},
   "source": [
    "#### Conducting test to check whether likes obtained are generally twice of retweets or not"
   ]
  },
  {
   "cell_type": "code",
   "execution_count": 96,
   "metadata": {},
   "outputs": [
    {
     "name": "stdout",
     "output_type": "stream",
     "text": [
      "Failed to reject Null Hypothesis\n",
      "There is no significance difference in average number of likes and twice of retweets\n"
     ]
    }
   ],
   "source": [
    "likes = data[\"Likes\"]\n",
    "retweets = data[\"Retweets\"]\n",
    "\n",
    "Ho = \"There is no significance difference in average number of likes and twice of retweets\"\n",
    "Ha = \"There is a significance difference in average number of likes and twice of retweets\"\n",
    "\n",
    "alpha = 0.05\n",
    "\n",
    "t_stat, p_value = stats.ttest_ind(likes, 2*retweets)\n",
    "\n",
    "print_test_result(p_value, alpha, Ho, Ha)"
   ]
  },
  {
   "cell_type": "markdown",
   "metadata": {},
   "source": [
    "### Identify the most popular hashtags used and their association with sentiment and engagement."
   ]
  },
  {
   "cell_type": "code",
   "execution_count": 97,
   "metadata": {},
   "outputs": [
    {
     "data": {
      "text/html": [
       "<div>\n",
       "<style scoped>\n",
       "    .dataframe tbody tr th:only-of-type {\n",
       "        vertical-align: middle;\n",
       "    }\n",
       "\n",
       "    .dataframe tbody tr th {\n",
       "        vertical-align: top;\n",
       "    }\n",
       "\n",
       "    .dataframe thead th {\n",
       "        text-align: right;\n",
       "    }\n",
       "</style>\n",
       "<table border=\"1\" class=\"dataframe\">\n",
       "  <thead>\n",
       "    <tr style=\"text-align: right;\">\n",
       "      <th></th>\n",
       "      <th>id</th>\n",
       "      <th>Hashtags</th>\n",
       "      <th>Sentiment</th>\n",
       "      <th>Likes</th>\n",
       "      <th>Retweets</th>\n",
       "    </tr>\n",
       "  </thead>\n",
       "  <tbody>\n",
       "    <tr>\n",
       "      <th>0</th>\n",
       "      <td>1</td>\n",
       "      <td>#Nature</td>\n",
       "      <td>Positive</td>\n",
       "      <td>30</td>\n",
       "      <td>15</td>\n",
       "    </tr>\n",
       "    <tr>\n",
       "      <th>1</th>\n",
       "      <td>1</td>\n",
       "      <td>#Park</td>\n",
       "      <td>Positive</td>\n",
       "      <td>30</td>\n",
       "      <td>15</td>\n",
       "    </tr>\n",
       "    <tr>\n",
       "      <th>2</th>\n",
       "      <td>2</td>\n",
       "      <td>#Traffic</td>\n",
       "      <td>Negative</td>\n",
       "      <td>10</td>\n",
       "      <td>5</td>\n",
       "    </tr>\n",
       "    <tr>\n",
       "      <th>3</th>\n",
       "      <td>2</td>\n",
       "      <td>#Morning</td>\n",
       "      <td>Negative</td>\n",
       "      <td>10</td>\n",
       "      <td>5</td>\n",
       "    </tr>\n",
       "    <tr>\n",
       "      <th>4</th>\n",
       "      <td>3</td>\n",
       "      <td>#Fitness</td>\n",
       "      <td>Positive</td>\n",
       "      <td>40</td>\n",
       "      <td>20</td>\n",
       "    </tr>\n",
       "  </tbody>\n",
       "</table>\n",
       "</div>"
      ],
      "text/plain": [
       "   id  Hashtags Sentiment  Likes  Retweets\n",
       "0   1   #Nature  Positive     30        15\n",
       "1   1     #Park  Positive     30        15\n",
       "2   2  #Traffic  Negative     10         5\n",
       "3   2  #Morning  Negative     10         5\n",
       "4   3  #Fitness  Positive     40        20"
      ]
     },
     "execution_count": 97,
     "metadata": {},
     "output_type": "execute_result"
    }
   ],
   "source": [
    "df = pd.merge(left=data_hashtags, right=data_sentiments, on=\"id\", how=\"inner\")\n",
    "df = pd.merge(left=df, right=data[[\"id\", \"Likes\", \"Retweets\"]], on=\"id\", how=\"inner\")\n",
    "\n",
    "df.head()"
   ]
  },
  {
   "cell_type": "code",
   "execution_count": 98,
   "metadata": {},
   "outputs": [
    {
     "data": {
      "text/plain": [
       "Hashtags             Sentiment     \n",
       "#Serenity            Serenity          15\n",
       "#Excitement          Excitement        12\n",
       "#Despair             Despair           11\n",
       "#Nostalgia           Nostalgia         11\n",
       "#Gratitude           Gratitude         11\n",
       "                                       ..\n",
       "#HappinessMilestone  Accomplishment     1\n",
       "#HauntedPast         Regret             1\n",
       "#Health              Negative           1\n",
       "#HealthyLiving       Excitement         1\n",
       "#Isolation           Loneliness         1\n",
       "Length: 1101, dtype: int64"
      ]
     },
     "execution_count": 98,
     "metadata": {},
     "output_type": "execute_result"
    }
   ],
   "source": [
    "df[[\"Hashtags\", \"Sentiment\"]].value_counts()"
   ]
  },
  {
   "cell_type": "code",
   "execution_count": 99,
   "metadata": {},
   "outputs": [
    {
     "data": {
      "text/html": [
       "<div>\n",
       "<style scoped>\n",
       "    .dataframe tbody tr th:only-of-type {\n",
       "        vertical-align: middle;\n",
       "    }\n",
       "\n",
       "    .dataframe tbody tr th {\n",
       "        vertical-align: top;\n",
       "    }\n",
       "\n",
       "    .dataframe thead th {\n",
       "        text-align: right;\n",
       "    }\n",
       "</style>\n",
       "<table border=\"1\" class=\"dataframe\">\n",
       "  <thead>\n",
       "    <tr style=\"text-align: right;\">\n",
       "      <th></th>\n",
       "      <th></th>\n",
       "      <th>Likes</th>\n",
       "      <th>Retweets</th>\n",
       "    </tr>\n",
       "    <tr>\n",
       "      <th>Hashtags</th>\n",
       "      <th>Sentiment</th>\n",
       "      <th></th>\n",
       "      <th></th>\n",
       "    </tr>\n",
       "  </thead>\n",
       "  <tbody>\n",
       "    <tr>\n",
       "      <th>#Excitement</th>\n",
       "      <th>Excitement</th>\n",
       "      <td>655.0</td>\n",
       "      <td>326.0</td>\n",
       "    </tr>\n",
       "    <tr>\n",
       "      <th>#Serenity</th>\n",
       "      <th>Serenity</th>\n",
       "      <td>636.0</td>\n",
       "      <td>317.0</td>\n",
       "    </tr>\n",
       "    <tr>\n",
       "      <th>#Gratitude</th>\n",
       "      <th>Gratitude</th>\n",
       "      <td>510.0</td>\n",
       "      <td>255.0</td>\n",
       "    </tr>\n",
       "    <tr>\n",
       "      <th>#Joy</th>\n",
       "      <th>Joy</th>\n",
       "      <td>495.0</td>\n",
       "      <td>247.0</td>\n",
       "    </tr>\n",
       "    <tr>\n",
       "      <th>#Contentment</th>\n",
       "      <th>Contentment</th>\n",
       "      <td>451.0</td>\n",
       "      <td>226.0</td>\n",
       "    </tr>\n",
       "    <tr>\n",
       "      <th>#Awe</th>\n",
       "      <th>Awe</th>\n",
       "      <td>400.0</td>\n",
       "      <td>201.0</td>\n",
       "    </tr>\n",
       "    <tr>\n",
       "      <th>#Nostalgia</th>\n",
       "      <th>Nostalgia</th>\n",
       "      <td>400.0</td>\n",
       "      <td>198.0</td>\n",
       "    </tr>\n",
       "    <tr>\n",
       "      <th>#Despair</th>\n",
       "      <th>Despair</th>\n",
       "      <td>392.0</td>\n",
       "      <td>197.0</td>\n",
       "    </tr>\n",
       "    <tr>\n",
       "      <th>#Curiosity</th>\n",
       "      <th>Curiosity</th>\n",
       "      <td>388.0</td>\n",
       "      <td>194.0</td>\n",
       "    </tr>\n",
       "    <tr>\n",
       "      <th>#Elation</th>\n",
       "      <th>Elation</th>\n",
       "      <td>360.0</td>\n",
       "      <td>180.0</td>\n",
       "    </tr>\n",
       "    <tr>\n",
       "      <th>#Grief</th>\n",
       "      <th>Grief</th>\n",
       "      <td>355.0</td>\n",
       "      <td>177.0</td>\n",
       "    </tr>\n",
       "    <tr>\n",
       "      <th>#Enthusiasm</th>\n",
       "      <th>Enthusiasm</th>\n",
       "      <td>320.0</td>\n",
       "      <td>160.0</td>\n",
       "    </tr>\n",
       "    <tr>\n",
       "      <th>#Confusion</th>\n",
       "      <th>Confusion</th>\n",
       "      <td>294.0</td>\n",
       "      <td>147.0</td>\n",
       "    </tr>\n",
       "    <tr>\n",
       "      <th>#Pride</th>\n",
       "      <th>Pride</th>\n",
       "      <td>280.0</td>\n",
       "      <td>140.0</td>\n",
       "    </tr>\n",
       "    <tr>\n",
       "      <th>#Happiness</th>\n",
       "      <th>Happiness</th>\n",
       "      <td>280.0</td>\n",
       "      <td>140.0</td>\n",
       "    </tr>\n",
       "    <tr>\n",
       "      <th>#Determination</th>\n",
       "      <th>Determination</th>\n",
       "      <td>275.0</td>\n",
       "      <td>138.0</td>\n",
       "    </tr>\n",
       "    <tr>\n",
       "      <th>#Acceptance</th>\n",
       "      <th>Acceptance</th>\n",
       "      <td>273.0</td>\n",
       "      <td>136.0</td>\n",
       "    </tr>\n",
       "    <tr>\n",
       "      <th>#Euphoria</th>\n",
       "      <th>Euphoria</th>\n",
       "      <td>270.0</td>\n",
       "      <td>135.0</td>\n",
       "    </tr>\n",
       "    <tr>\n",
       "      <th>#Inspiration</th>\n",
       "      <th>Inspiration</th>\n",
       "      <td>265.0</td>\n",
       "      <td>133.0</td>\n",
       "    </tr>\n",
       "    <tr>\n",
       "      <th>#Loneliness</th>\n",
       "      <th>Loneliness</th>\n",
       "      <td>262.0</td>\n",
       "      <td>131.0</td>\n",
       "    </tr>\n",
       "  </tbody>\n",
       "</table>\n",
       "</div>"
      ],
      "text/plain": [
       "                              Likes  Retweets\n",
       "Hashtags       Sentiment                     \n",
       "#Excitement    Excitement     655.0     326.0\n",
       "#Serenity      Serenity       636.0     317.0\n",
       "#Gratitude     Gratitude      510.0     255.0\n",
       "#Joy           Joy            495.0     247.0\n",
       "#Contentment   Contentment    451.0     226.0\n",
       "#Awe           Awe            400.0     201.0\n",
       "#Nostalgia     Nostalgia      400.0     198.0\n",
       "#Despair       Despair        392.0     197.0\n",
       "#Curiosity     Curiosity      388.0     194.0\n",
       "#Elation       Elation        360.0     180.0\n",
       "#Grief         Grief          355.0     177.0\n",
       "#Enthusiasm    Enthusiasm     320.0     160.0\n",
       "#Confusion     Confusion      294.0     147.0\n",
       "#Pride         Pride          280.0     140.0\n",
       "#Happiness     Happiness      280.0     140.0\n",
       "#Determination Determination  275.0     138.0\n",
       "#Acceptance    Acceptance     273.0     136.0\n",
       "#Euphoria      Euphoria       270.0     135.0\n",
       "#Inspiration   Inspiration    265.0     133.0\n",
       "#Loneliness    Loneliness     262.0     131.0"
      ]
     },
     "execution_count": 99,
     "metadata": {},
     "output_type": "execute_result"
    }
   ],
   "source": [
    "df.groupby([\"Hashtags\", \"Sentiment\"])[[\"Likes\", \"Retweets\"]].sum().sort_values(\"Likes\", ascending=False)[:20]"
   ]
  },
  {
   "cell_type": "markdown",
   "metadata": {},
   "source": [
    "Insights:-\n",
    "1. From above table it is evident that Same word is used for Hashtag and resembling Sentiment.\n",
    "2. Top 3 Hashtags are - `#Excitement, #Serenity and #Gratitude`."
   ]
  }
 ],
 "metadata": {
  "kernelspec": {
   "display_name": "Python 3",
   "language": "python",
   "name": "python3"
  },
  "language_info": {
   "codemirror_mode": {
    "name": "ipython",
    "version": 3
   },
   "file_extension": ".py",
   "mimetype": "text/x-python",
   "name": "python",
   "nbconvert_exporter": "python",
   "pygments_lexer": "ipython3",
   "version": "3.8.8"
  }
 },
 "nbformat": 4,
 "nbformat_minor": 2
}
